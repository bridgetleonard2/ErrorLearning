{
  "nbformat": 4,
  "nbformat_minor": 0,
  "metadata": {
    "colab": {
      "provenance": []
    },
    "kernelspec": {
      "name": "python3",
      "display_name": "Python 3"
    },
    "language_info": {
      "name": "python"
    }
  },
  "cells": [
    {
      "cell_type": "code",
      "execution_count": 1,
      "metadata": {
        "id": "J-4TjGGtFT6R"
      },
      "outputs": [],
      "source": [
        "import numpy as np\n",
        "import scipy.optimize as opt\n",
        "import matplotlib.pyplot as plt\n",
        "import pandas as pd\n",
        "from matplotlib.ticker import (MultipleLocator, AutoMinorLocator)\n",
        "from tqdm.notebook import tqdm\n",
        "import os\n",
        "import seaborn as sns\n",
        "import random\n",
        "import math\n",
        "sns.set(style=\"whitegrid\")"
      ]
    },
    {
      "cell_type": "markdown",
      "source": [
        "Load and check data:"
      ],
      "metadata": {
        "id": "E53BwHW1Gk9l"
      }
    },
    {
      "cell_type": "code",
      "source": [
        "alldata = pd.read_csv(\"error_data.csv\")"
      ],
      "metadata": {
        "id": "RAxDu0zYFedU"
      },
      "execution_count": 3,
      "outputs": []
    },
    {
      "cell_type": "code",
      "source": [
        "alldata.head()"
      ],
      "metadata": {
        "colab": {
          "base_uri": "https://localhost:8080/",
          "height": 206
        },
        "id": "Dgj051G4GVUO",
        "outputId": "f9c94735-9e79-4e0b-ea4b-2cd48c6e0ab4"
      },
      "execution_count": null,
      "outputs": [
        {
          "output_type": "execute_result",
          "data": {
            "text/plain": [
              "   participant  phase  condition       cue    target response      rt  \\\n",
              "0       1001.0  learn        1.0    EMPIRE     STATE     KING  3457.0   \n",
              "1       1001.0  learn        1.0     CHUNK     BLOCK     HUNK  3361.0   \n",
              "2       1001.0  learn        1.0     GLIDE      HANG      FLY  2177.0   \n",
              "3       1001.0  learn        1.0      SAIL     OCEAN     BOAT  2341.0   \n",
              "4       1001.0  learn        1.0  ELEVATOR  BUILDING       UP  3464.0   \n",
              "\n",
              "   correct  Column1 Column2  \n",
              "0      2.0      NaN     NaN  \n",
              "1      2.0      NaN     NaN  \n",
              "2      2.0      NaN     NaN  \n",
              "3      2.0      NaN     NaN  \n",
              "4      2.0      NaN     NaN  "
            ],
            "text/html": [
              "\n",
              "  <div id=\"df-2e98b78d-a4d3-47a4-953b-34e130cfe2d7\">\n",
              "    <div class=\"colab-df-container\">\n",
              "      <div>\n",
              "<style scoped>\n",
              "    .dataframe tbody tr th:only-of-type {\n",
              "        vertical-align: middle;\n",
              "    }\n",
              "\n",
              "    .dataframe tbody tr th {\n",
              "        vertical-align: top;\n",
              "    }\n",
              "\n",
              "    .dataframe thead th {\n",
              "        text-align: right;\n",
              "    }\n",
              "</style>\n",
              "<table border=\"1\" class=\"dataframe\">\n",
              "  <thead>\n",
              "    <tr style=\"text-align: right;\">\n",
              "      <th></th>\n",
              "      <th>participant</th>\n",
              "      <th>phase</th>\n",
              "      <th>condition</th>\n",
              "      <th>cue</th>\n",
              "      <th>target</th>\n",
              "      <th>response</th>\n",
              "      <th>rt</th>\n",
              "      <th>correct</th>\n",
              "      <th>Column1</th>\n",
              "      <th>Column2</th>\n",
              "    </tr>\n",
              "  </thead>\n",
              "  <tbody>\n",
              "    <tr>\n",
              "      <th>0</th>\n",
              "      <td>1001.0</td>\n",
              "      <td>learn</td>\n",
              "      <td>1.0</td>\n",
              "      <td>EMPIRE</td>\n",
              "      <td>STATE</td>\n",
              "      <td>KING</td>\n",
              "      <td>3457.0</td>\n",
              "      <td>2.0</td>\n",
              "      <td>NaN</td>\n",
              "      <td>NaN</td>\n",
              "    </tr>\n",
              "    <tr>\n",
              "      <th>1</th>\n",
              "      <td>1001.0</td>\n",
              "      <td>learn</td>\n",
              "      <td>1.0</td>\n",
              "      <td>CHUNK</td>\n",
              "      <td>BLOCK</td>\n",
              "      <td>HUNK</td>\n",
              "      <td>3361.0</td>\n",
              "      <td>2.0</td>\n",
              "      <td>NaN</td>\n",
              "      <td>NaN</td>\n",
              "    </tr>\n",
              "    <tr>\n",
              "      <th>2</th>\n",
              "      <td>1001.0</td>\n",
              "      <td>learn</td>\n",
              "      <td>1.0</td>\n",
              "      <td>GLIDE</td>\n",
              "      <td>HANG</td>\n",
              "      <td>FLY</td>\n",
              "      <td>2177.0</td>\n",
              "      <td>2.0</td>\n",
              "      <td>NaN</td>\n",
              "      <td>NaN</td>\n",
              "    </tr>\n",
              "    <tr>\n",
              "      <th>3</th>\n",
              "      <td>1001.0</td>\n",
              "      <td>learn</td>\n",
              "      <td>1.0</td>\n",
              "      <td>SAIL</td>\n",
              "      <td>OCEAN</td>\n",
              "      <td>BOAT</td>\n",
              "      <td>2341.0</td>\n",
              "      <td>2.0</td>\n",
              "      <td>NaN</td>\n",
              "      <td>NaN</td>\n",
              "    </tr>\n",
              "    <tr>\n",
              "      <th>4</th>\n",
              "      <td>1001.0</td>\n",
              "      <td>learn</td>\n",
              "      <td>1.0</td>\n",
              "      <td>ELEVATOR</td>\n",
              "      <td>BUILDING</td>\n",
              "      <td>UP</td>\n",
              "      <td>3464.0</td>\n",
              "      <td>2.0</td>\n",
              "      <td>NaN</td>\n",
              "      <td>NaN</td>\n",
              "    </tr>\n",
              "  </tbody>\n",
              "</table>\n",
              "</div>\n",
              "      <button class=\"colab-df-convert\" onclick=\"convertToInteractive('df-2e98b78d-a4d3-47a4-953b-34e130cfe2d7')\"\n",
              "              title=\"Convert this dataframe to an interactive table.\"\n",
              "              style=\"display:none;\">\n",
              "        \n",
              "  <svg xmlns=\"http://www.w3.org/2000/svg\" height=\"24px\"viewBox=\"0 0 24 24\"\n",
              "       width=\"24px\">\n",
              "    <path d=\"M0 0h24v24H0V0z\" fill=\"none\"/>\n",
              "    <path d=\"M18.56 5.44l.94 2.06.94-2.06 2.06-.94-2.06-.94-.94-2.06-.94 2.06-2.06.94zm-11 1L8.5 8.5l.94-2.06 2.06-.94-2.06-.94L8.5 2.5l-.94 2.06-2.06.94zm10 10l.94 2.06.94-2.06 2.06-.94-2.06-.94-.94-2.06-.94 2.06-2.06.94z\"/><path d=\"M17.41 7.96l-1.37-1.37c-.4-.4-.92-.59-1.43-.59-.52 0-1.04.2-1.43.59L10.3 9.45l-7.72 7.72c-.78.78-.78 2.05 0 2.83L4 21.41c.39.39.9.59 1.41.59.51 0 1.02-.2 1.41-.59l7.78-7.78 2.81-2.81c.8-.78.8-2.07 0-2.86zM5.41 20L4 18.59l7.72-7.72 1.47 1.35L5.41 20z\"/>\n",
              "  </svg>\n",
              "      </button>\n",
              "      \n",
              "  <style>\n",
              "    .colab-df-container {\n",
              "      display:flex;\n",
              "      flex-wrap:wrap;\n",
              "      gap: 12px;\n",
              "    }\n",
              "\n",
              "    .colab-df-convert {\n",
              "      background-color: #E8F0FE;\n",
              "      border: none;\n",
              "      border-radius: 50%;\n",
              "      cursor: pointer;\n",
              "      display: none;\n",
              "      fill: #1967D2;\n",
              "      height: 32px;\n",
              "      padding: 0 0 0 0;\n",
              "      width: 32px;\n",
              "    }\n",
              "\n",
              "    .colab-df-convert:hover {\n",
              "      background-color: #E2EBFA;\n",
              "      box-shadow: 0px 1px 2px rgba(60, 64, 67, 0.3), 0px 1px 3px 1px rgba(60, 64, 67, 0.15);\n",
              "      fill: #174EA6;\n",
              "    }\n",
              "\n",
              "    [theme=dark] .colab-df-convert {\n",
              "      background-color: #3B4455;\n",
              "      fill: #D2E3FC;\n",
              "    }\n",
              "\n",
              "    [theme=dark] .colab-df-convert:hover {\n",
              "      background-color: #434B5C;\n",
              "      box-shadow: 0px 1px 3px 1px rgba(0, 0, 0, 0.15);\n",
              "      filter: drop-shadow(0px 1px 2px rgba(0, 0, 0, 0.3));\n",
              "      fill: #FFFFFF;\n",
              "    }\n",
              "  </style>\n",
              "\n",
              "      <script>\n",
              "        const buttonEl =\n",
              "          document.querySelector('#df-2e98b78d-a4d3-47a4-953b-34e130cfe2d7 button.colab-df-convert');\n",
              "        buttonEl.style.display =\n",
              "          google.colab.kernel.accessAllowed ? 'block' : 'none';\n",
              "\n",
              "        async function convertToInteractive(key) {\n",
              "          const element = document.querySelector('#df-2e98b78d-a4d3-47a4-953b-34e130cfe2d7');\n",
              "          const dataTable =\n",
              "            await google.colab.kernel.invokeFunction('convertToInteractive',\n",
              "                                                     [key], {});\n",
              "          if (!dataTable) return;\n",
              "\n",
              "          const docLinkHtml = 'Like what you see? Visit the ' +\n",
              "            '<a target=\"_blank\" href=https://colab.research.google.com/notebooks/data_table.ipynb>data table notebook</a>'\n",
              "            + ' to learn more about interactive tables.';\n",
              "          element.innerHTML = '';\n",
              "          dataTable['output_type'] = 'display_data';\n",
              "          await google.colab.output.renderOutput(dataTable, element);\n",
              "          const docLink = document.createElement('div');\n",
              "          docLink.innerHTML = docLinkHtml;\n",
              "          element.appendChild(docLink);\n",
              "        }\n",
              "      </script>\n",
              "    </div>\n",
              "  </div>\n",
              "  "
            ]
          },
          "metadata": {},
          "execution_count": 3
        }
      ]
    },
    {
      "cell_type": "code",
      "source": [
        "alldata.shape"
      ],
      "metadata": {
        "colab": {
          "base_uri": "https://localhost:8080/"
        },
        "id": "hV8XwZcBGg_G",
        "outputId": "b9f89244-de92-42d0-d91b-ac4ae03d7442"
      },
      "execution_count": 4,
      "outputs": [
        {
          "output_type": "execute_result",
          "data": {
            "text/plain": [
              "(5670, 10)"
            ]
          },
          "metadata": {},
          "execution_count": 4
        }
      ]
    },
    {
      "cell_type": "markdown",
      "source": [
        "Log likelihood"
      ],
      "metadata": {
        "id": "uLjxKMVoGub_"
      }
    },
    {
      "cell_type": "markdown",
      "source": [
        "Implement ACT-R code:"
      ],
      "metadata": {
        "id": "UMdZ1ukRG4Y-"
      }
    },
    {
      "cell_type": "code",
      "source": [
        "def activation(traces, time, decay):\n",
        "    \"\"\"Computes the activation of a memory given its history of retrievals\"\"\"\n",
        "    ftraces = [x for x in traces if x < time]\n",
        "    decay = max(0, decay)  # Allows no positive decay rates in equation \n",
        "    decay - min(decay, 5)\n",
        "    times = time - np.array(ftraces)\n",
        "    odds = times ** -decay\n",
        "    return np.log(np.sum(odds))\n",
        "\n",
        "activation([5, 10, 15], 40, 0.5)"
      ],
      "metadata": {
        "colab": {
          "base_uri": "https://localhost:8080/"
        },
        "id": "zOnwozhTGttJ",
        "outputId": "38d5b33c-8beb-4a70-ddac-c9f600c49854"
      },
      "execution_count": 5,
      "outputs": [
        {
          "output_type": "execute_result",
          "data": {
            "text/plain": [
              "-0.5949230018850301"
            ]
          },
          "metadata": {},
          "execution_count": 5
        }
      ]
    },
    {
      "cell_type": "code",
      "source": [
        "def responseTime(activation, k, Ter):\n",
        "  retrieval = k / math.exp(activation)\n",
        "  return retrieval + Ter"
      ],
      "metadata": {
        "id": "2kTh5uD72Ktl"
      },
      "execution_count": 6,
      "outputs": []
    },
    {
      "cell_type": "code",
      "source": [
        "time = np.linspace(0.1, 100, 100)\n",
        "traces = [0.001, 5, 25]\n",
        "y = []\n",
        "for t in time:\n",
        "    act = activation(traces, t, 0.5)\n",
        "    y += [act]\n",
        "    \n",
        "plt.plot(time, y)\n",
        "plt.xlabel(\"Time\")\n",
        "plt.ylabel(\"Activation\")\n",
        "plt.show()"
      ],
      "metadata": {
        "colab": {
          "base_uri": "https://localhost:8080/",
          "height": 458
        },
        "id": "9O1NxeppG71j",
        "outputId": "1caeeb0b-4e5f-40b8-9bee-fe34011949c5"
      },
      "execution_count": 7,
      "outputs": [
        {
          "output_type": "display_data",
          "data": {
            "text/plain": [
              "<Figure size 640x480 with 1 Axes>"
            ],
            "image/png": "[encoded data removed]"
          },
          "metadata": {}
        }
      ]
    },
    {
      "cell_type": "markdown",
      "source": [
        "Create loglikelihood function for the model"
      ],
      "metadata": {
        "id": "F5O-Ma2bHHCe"
      }
    },
    {
      "cell_type": "code",
      "source": [
        "def boltzmann(options, values, temperature):\n",
        "    \"\"\"Returns a Boltzmann distribution of the probabilities of each option\"\"\"\n",
        "    temperature = max(temperature, 0.01) \n",
        "    vals = np.array(values)/temperature\n",
        "    #bvals = np.exp(vals)/np.sum(np.exp(vals))\n",
        "    bvals = np.exp(vals - np.max(vals)) / np.exp(vals - np.max(vals)).sum()\n",
        "    return dict(zip(options, bvals))"
      ],
      "metadata": {
        "id": "4nYd7AWEHC6a"
      },
      "execution_count": 8,
      "outputs": []
    },
    {
      "cell_type": "code",
      "source": [
        "boltzmann([2,3], [1, 0.7], 1)"
      ],
      "metadata": {
        "colab": {
          "base_uri": "https://localhost:8080/"
        },
        "id": "infLxnLdIU7o",
        "outputId": "466ad163-3c65-4f97-c360-f91f9ba2bb54"
      },
      "execution_count": 9,
      "outputs": [
        {
          "output_type": "execute_result",
          "data": {
            "text/plain": [
              "{2: 0.574442516811659, 3: 0.425557483188341}"
            ]
          },
          "metadata": {},
          "execution_count": 9
        }
      ]
    },
    {
      "cell_type": "markdown",
      "source": [
        "Create a loglikelihood function for the elaborative model, each error item is given additional spreading activation given the max association (mas) parameter"
      ],
      "metadata": {
        "id": "NaK3W3zCI63e"
      }
    },
    {
      "cell_type": "code",
      "source": [
        "def LLelab(data, decay, temp, mas):\n",
        "    \"\"\"For each trial, calculate the probability of that response, sum the log likelihoods, and update the values\"\"\"\n",
        "    # create a list of error items\n",
        "    errors = data[data.phase == \"learn\"].cue.tolist()\n",
        "    # create a list of study items\n",
        "    study = data[data.condition == 2].cue.tolist()\n",
        "    pos = 1\n",
        "    present = errors[:]\n",
        "    for i in range(len(errors)):\n",
        "      word = study[i]\n",
        "      present.insert(pos, word)\n",
        "      pos += 2\n",
        "\n",
        "    # Create dict with word pairs\n",
        "    pairs = {}\n",
        "    for cue, target in zip(data[data.phase == \"test\"].cue,data[data.phase == \"test\"].target):\n",
        "      pairs[cue] = target\n",
        "    # also create a dict with errors\n",
        "    errorResp = dict()\n",
        "    for cue,response in zip(testData[testData.phase == \"learn\"].cue,testData[testData.phase == \"learn\"].response):\n",
        "      errorResp[cue] = response\n",
        "\n",
        "    # model learning phase, encode a single trace for each item: (idk what to set activation at)\n",
        "    DM = dict()\n",
        "    # for DM can we make a dictionary of dictionaries where big keys are cues, values are dictionary of target/\n",
        "    # possible responses and their activation\n",
        "    time = 0\n",
        "    step = 10 #time for learning each item\n",
        "    for cue in present:\n",
        "      littleDM = {}\n",
        "      # make a set of all reponses given to a certain cue to be \"vocab for that cue\"\n",
        "      for response in set(alldata[alldata.cue == cue].response):\n",
        "        littleDM[response] = [0.001]\n",
        "      # add retrieval of error for error items\n",
        "      if cue in errorResp.keys():\n",
        "        error = errorResp[cue]\n",
        "        time +=5\n",
        "        littleDM[error] = [0.001, time]\n",
        "      # overwrite smaller activ of correct target to show task learning\n",
        "        time +=5\n",
        "        littleDM[pairs[cue]] = [0.001, time]\n",
        "      else:\n",
        "        time += 10\n",
        "        littleDM[pairs[cue]] = [0.001, time]\n",
        "      DM[cue] = littleDM\n",
        "    time += 300 # time for distractor phase\n",
        "\n",
        "\n",
        "    # model testing phase\n",
        "    LL = 0\n",
        "    for condition, cue, response, rt, feedback in zip(data[data.phase == \"test\"].condition,\n",
        "                                   data[data.phase == \"test\"].cue, \n",
        "                                   data[data.phase == \"test\"].response, \n",
        "                                   data[data.phase == \"test\"].rt, \n",
        "                                   data[data.phase == \"test\"].correct):\n",
        "      # Calculate log likelihood of response- possible options are 19 random integers\n",
        "      # or correct associate\n",
        "      options = DM[cue].keys()\n",
        "      # create spreading activation additional error component given size of cue's dec mem\n",
        "      cueMem = len(DM[cue])\n",
        "      add = (mas - np.log((cueMem + 1)/2)) - (mas - np.log((cueMem + 1)/1))\n",
        "      # if error condition, add spreading activation\n",
        "      values = [activation(DM[cue][opt], time, decay) if condition == 1 else \n",
        "       (activation(DM[cue][opt], time, decay) + add) for opt in options]\n",
        "      prob = boltzmann(options, values, temp)[response]\n",
        "    \n",
        "      # Sum up the LLs\n",
        "      LL += np.log(max(prob, 10e-10))\n",
        "\n",
        "       # add time taken to responde\n",
        "      time += rt/1000\n",
        "    \n",
        "    return LL"
      ],
      "metadata": {
        "id": "KMLIBhGdIteL"
      },
      "execution_count": 16,
      "outputs": []
    },
    {
      "cell_type": "code",
      "source": [
        "LLelab(alldata[alldata.participant == 1001], 0.5, 1, 4)"
      ],
      "metadata": {
        "colab": {
          "base_uri": "https://localhost:8080/"
        },
        "id": "yahI4_8z7t5o",
        "outputId": "9c381a71-f939-47a2-8dd8-244819267ec0"
      },
      "execution_count": 17,
      "outputs": [
        {
          "output_type": "execute_result",
          "data": {
            "text/plain": [
              "-174.4412782790136"
            ]
          },
          "metadata": {},
          "execution_count": 17
        }
      ]
    },
    {
      "cell_type": "code",
      "source": [
        "LLelab(alldata[alldata.participant == 1002], 0.5, 1, 4)"
      ],
      "metadata": {
        "colab": {
          "base_uri": "https://localhost:8080/"
        },
        "id": "X9bwBrAI8JLq",
        "outputId": "0c65db13-9dcb-45a4-fdc6-8fae34f3008a"
      },
      "execution_count": null,
      "outputs": [
        {
          "output_type": "execute_result",
          "data": {
            "text/plain": [
              "-177.80778341706403"
            ]
          },
          "metadata": {},
          "execution_count": 27
        }
      ]
    },
    {
      "cell_type": "markdown",
      "source": [
        "Create a loglikelihood function of the mediator model, where there are two routes to make a decision: To remember something that worked and to remember something that did not."
      ],
      "metadata": {
        "id": "bft75J6OTfGn"
      }
    },
    {
      "cell_type": "code",
      "source": [
        "def LLmed(data, decay, temp):\n",
        "    \"\"\"For each trial, calculate the probability of that response, sum the log likelihoods, and update the values\"\"\"\n",
        "    # create a list of error items\n",
        "    errors = data[data.phase == \"learn\"].cue.tolist()\n",
        "    # create a list of study items\n",
        "    study = data[data.condition == 2].cue.tolist()\n",
        "    pos = 1\n",
        "    present = errors[:]\n",
        "    for i in range(len(errors)):\n",
        "      word = study[i]\n",
        "      present.insert(pos, word)\n",
        "      pos += 2\n",
        "\n",
        "    # Create dict with word pairs\n",
        "    pairs = {}\n",
        "    for cue, target in zip(data[data.phase == \"test\"].cue,data[data.phase == \"test\"].target):\n",
        "      pairs[cue] = target\n",
        "    # also create a dict with errors\n",
        "    errorResp = dict()\n",
        "    for cue,response in zip(testData[testData.phase == \"learn\"].cue,testData[testData.phase == \"learn\"].response):\n",
        "      errorResp[cue] = response\n",
        "\n",
        "    # model learning phase, encode a single trace for each item: (idk what to set activation at)\n",
        "    DM = dict()\n",
        "    # for DM can we make a dictionary of dictionaries where big keys are cues, values are dictionary of target/\n",
        "    # possible responses and their activation\n",
        "    time = 0\n",
        "    step = 10 #time for learning each item\n",
        "    for cue in present:\n",
        "      littleDM = {}\n",
        "      # make a set of all reponses given to a certain cue to be \"vocab for that cue\"\n",
        "      for response in set(alldata[alldata.cue == cue].response):\n",
        "        littleDM[response] = [0.001]\n",
        "      # add retrieval of error for error items\n",
        "      if cue in errorResp.keys():\n",
        "        error = errorResp[cue]\n",
        "        time +=5\n",
        "        littleDM[error] = [0.001, time]\n",
        "      # overwrite smaller activ of correct target to show task learning\n",
        "        time +=5\n",
        "        littleDM[pairs[cue]] = [0.001, time]\n",
        "      else:\n",
        "        time += 10\n",
        "        littleDM[pairs[cue]] = [0.001, time]\n",
        "      DM[cue] = littleDM\n",
        "    time += 300 # time for distractor phase\n",
        "\n",
        "    # model testing phase\n",
        "    LL = 0\n",
        "    \n",
        "    for condition, cue, response, rt, feedback in zip(data[data.phase == \"test\"].condition,\n",
        "                                   data[data.phase == \"test\"].cue, \n",
        "                                   data[data.phase == \"test\"].response, \n",
        "                                   data[data.phase == \"test\"].rt, \n",
        "                                   data[data.phase == \"test\"].correct):\n",
        "        # Calculate log likelihood of response- possible options are 19 random integers\n",
        "        # or correct associate\n",
        "        options = DM[cue].keys()\n",
        "        # create spreading activation additional error component given size of cue's dec mem\n",
        "        cueMem = len(DM[cue])\n",
        "        # if error condition, add spreading activation\n",
        "        values = [activation(DM[cue][opt], time, decay) for opt in options]\n",
        "        prob1 = boltzmann(options, values, temp)[response]\n",
        "        \n",
        "        # probability of retrieving error memory\n",
        "        if condition == 1:\n",
        "          error = errorResp[cue]\n",
        "          prob2 = boltzmann(options, values, temp)[error]\n",
        "        else:\n",
        "          prob2 = 0\n",
        "        \n",
        "        # Sum up the LLs\n",
        "        LL += np.log(max(prob1 + prob2, 10e-10))\n",
        "        \n",
        "         # add time taken to responde\n",
        "        time += rt/1000\n",
        "        \n",
        "    return LL"
      ],
      "metadata": {
        "id": "6oDf4YA7T3To"
      },
      "execution_count": 36,
      "outputs": []
    },
    {
      "cell_type": "code",
      "source": [
        "LLmed(alldata[alldata.participant == 1001], 0.5, 1)"
      ],
      "metadata": {
        "colab": {
          "base_uri": "https://localhost:8080/"
        },
        "id": "mmmyXeOdETlj",
        "outputId": "c194ea6c-59b2-4131-f0b2-d4c455eef964"
      },
      "execution_count": 37,
      "outputs": [
        {
          "output_type": "execute_result",
          "data": {
            "text/plain": [
              "-148.38513809212435"
            ]
          },
          "metadata": {},
          "execution_count": 37
        }
      ]
    }
  ]
}