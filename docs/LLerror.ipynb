{
  "cells": [
    {
      "cell_type": "code",
      "execution_count": null,
      "metadata": {
        "id": "J-4TjGGtFT6R"
      },
      "outputs": [],
      "source": [
        "import numpy as np\n",
        "import scipy.optimize as opt\n",
        "import matplotlib.pyplot as plt\n",
        "import pandas as pd\n",
        "from matplotlib.ticker import (MultipleLocator, AutoMinorLocator)\n",
        "from tqdm.notebook import tqdm\n",
        "import os\n",
        "import seaborn as sns\n",
        "import random\n",
        "import math\n",
        "import scipy as sp\n",
        "import itertools\n",
        "sns.set(style=\"whitegrid\")"
      ]
    },
    {
      "cell_type": "markdown",
      "metadata": {
        "id": "E53BwHW1Gk9l"
      },
      "source": [
        "Load and check data:"
      ]
    },
    {
      "cell_type": "code",
      "execution_count": null,
      "metadata": {
        "id": "RAxDu0zYFedU"
      },
      "outputs": [],
      "source": [
        "alldata = pd.read_csv(\"error_data.csv\")"
      ]
    },
    {
      "cell_type": "code",
      "execution_count": null,
      "metadata": {
        "colab": {
          "base_uri": "https://localhost:8080/",
          "height": 206
        },
        "id": "Dgj051G4GVUO",
        "outputId": "5ee5036a-a17e-4534-dd90-e0c14227f086"
      },
      "outputs": [
        {
          "output_type": "execute_result",
          "data": {
            "text/plain": [
              "   participant  phase  condition       cue    target response      rt  \\\n",
              "0       1001.0  learn        1.0    EMPIRE     STATE     KING  3457.0   \n",
              "1       1001.0  learn        1.0     CHUNK     BLOCK     HUNK  3361.0   \n",
              "2       1001.0  learn        1.0     GLIDE      HANG      FLY  2177.0   \n",
              "3       1001.0  learn        1.0      SAIL     OCEAN     BOAT  2341.0   \n",
              "4       1001.0  learn        1.0  ELEVATOR  BUILDING       UP  3464.0   \n",
              "\n",
              "   correct  Column1 Column2  \n",
              "0      2.0      NaN     NaN  \n",
              "1      2.0      NaN     NaN  \n",
              "2      2.0      NaN     NaN  \n",
              "3      2.0      NaN     NaN  \n",
              "4      2.0      NaN     NaN  "
            ],
            "text/html": [
              "\n",
              "  <div id=\"df-6a20245d-5097-4128-8ddc-bccbc13e99ca\">\n",
              "    <div class=\"colab-df-container\">\n",
              "      <div>\n",
              "<style scoped>\n",
              "    .dataframe tbody tr th:only-of-type {\n",
              "        vertical-align: middle;\n",
              "    }\n",
              "\n",
              "    .dataframe tbody tr th {\n",
              "        vertical-align: top;\n",
              "    }\n",
              "\n",
              "    .dataframe thead th {\n",
              "        text-align: right;\n",
              "    }\n",
              "</style>\n",
              "<table border=\"1\" class=\"dataframe\">\n",
              "  <thead>\n",
              "    <tr style=\"text-align: right;\">\n",
              "      <th></th>\n",
              "      <th>participant</th>\n",
              "      <th>phase</th>\n",
              "      <th>condition</th>\n",
              "      <th>cue</th>\n",
              "      <th>target</th>\n",
              "      <th>response</th>\n",
              "      <th>rt</th>\n",
              "      <th>correct</th>\n",
              "      <th>Column1</th>\n",
              "      <th>Column2</th>\n",
              "    </tr>\n",
              "  </thead>\n",
              "  <tbody>\n",
              "    <tr>\n",
              "      <th>0</th>\n",
              "      <td>1001.0</td>\n",
              "      <td>learn</td>\n",
              "      <td>1.0</td>\n",
              "      <td>EMPIRE</td>\n",
              "      <td>STATE</td>\n",
              "      <td>KING</td>\n",
              "      <td>3457.0</td>\n",
              "      <td>2.0</td>\n",
              "      <td>NaN</td>\n",
              "      <td>NaN</td>\n",
              "    </tr>\n",
              "    <tr>\n",
              "      <th>1</th>\n",
              "      <td>1001.0</td>\n",
              "      <td>learn</td>\n",
              "      <td>1.0</td>\n",
              "      <td>CHUNK</td>\n",
              "      <td>BLOCK</td>\n",
              "      <td>HUNK</td>\n",
              "      <td>3361.0</td>\n",
              "      <td>2.0</td>\n",
              "      <td>NaN</td>\n",
              "      <td>NaN</td>\n",
              "    </tr>\n",
              "    <tr>\n",
              "      <th>2</th>\n",
              "      <td>1001.0</td>\n",
              "      <td>learn</td>\n",
              "      <td>1.0</td>\n",
              "      <td>GLIDE</td>\n",
              "      <td>HANG</td>\n",
              "      <td>FLY</td>\n",
              "      <td>2177.0</td>\n",
              "      <td>2.0</td>\n",
              "      <td>NaN</td>\n",
              "      <td>NaN</td>\n",
              "    </tr>\n",
              "    <tr>\n",
              "      <th>3</th>\n",
              "      <td>1001.0</td>\n",
              "      <td>learn</td>\n",
              "      <td>1.0</td>\n",
              "      <td>SAIL</td>\n",
              "      <td>OCEAN</td>\n",
              "      <td>BOAT</td>\n",
              "      <td>2341.0</td>\n",
              "      <td>2.0</td>\n",
              "      <td>NaN</td>\n",
              "      <td>NaN</td>\n",
              "    </tr>\n",
              "    <tr>\n",
              "      <th>4</th>\n",
              "      <td>1001.0</td>\n",
              "      <td>learn</td>\n",
              "      <td>1.0</td>\n",
              "      <td>ELEVATOR</td>\n",
              "      <td>BUILDING</td>\n",
              "      <td>UP</td>\n",
              "      <td>3464.0</td>\n",
              "      <td>2.0</td>\n",
              "      <td>NaN</td>\n",
              "      <td>NaN</td>\n",
              "    </tr>\n",
              "  </tbody>\n",
              "</table>\n",
              "</div>\n",
              "      <button class=\"colab-df-convert\" onclick=\"convertToInteractive('df-6a20245d-5097-4128-8ddc-bccbc13e99ca')\"\n",
              "              title=\"Convert this dataframe to an interactive table.\"\n",
              "              style=\"display:none;\">\n",
              "        \n",
              "  <svg xmlns=\"http://www.w3.org/2000/svg\" height=\"24px\"viewBox=\"0 0 24 24\"\n",
              "       width=\"24px\">\n",
              "    <path d=\"M0 0h24v24H0V0z\" fill=\"none\"/>\n",
              "    <path d=\"M18.56 5.44l.94 2.06.94-2.06 2.06-.94-2.06-.94-.94-2.06-.94 2.06-2.06.94zm-11 1L8.5 8.5l.94-2.06 2.06-.94-2.06-.94L8.5 2.5l-.94 2.06-2.06.94zm10 10l.94 2.06.94-2.06 2.06-.94-2.06-.94-.94-2.06-.94 2.06-2.06.94z\"/><path d=\"M17.41 7.96l-1.37-1.37c-.4-.4-.92-.59-1.43-.59-.52 0-1.04.2-1.43.59L10.3 9.45l-7.72 7.72c-.78.78-.78 2.05 0 2.83L4 21.41c.39.39.9.59 1.41.59.51 0 1.02-.2 1.41-.59l7.78-7.78 2.81-2.81c.8-.78.8-2.07 0-2.86zM5.41 20L4 18.59l7.72-7.72 1.47 1.35L5.41 20z\"/>\n",
              "  </svg>\n",
              "      </button>\n",
              "      \n",
              "  <style>\n",
              "    .colab-df-container {\n",
              "      display:flex;\n",
              "      flex-wrap:wrap;\n",
              "      gap: 12px;\n",
              "    }\n",
              "\n",
              "    .colab-df-convert {\n",
              "      background-color: #E8F0FE;\n",
              "      border: none;\n",
              "      border-radius: 50%;\n",
              "      cursor: pointer;\n",
              "      display: none;\n",
              "      fill: #1967D2;\n",
              "      height: 32px;\n",
              "      padding: 0 0 0 0;\n",
              "      width: 32px;\n",
              "    }\n",
              "\n",
              "    .colab-df-convert:hover {\n",
              "      background-color: #E2EBFA;\n",
              "      box-shadow: 0px 1px 2px rgba(60, 64, 67, 0.3), 0px 1px 3px 1px rgba(60, 64, 67, 0.15);\n",
              "      fill: #174EA6;\n",
              "    }\n",
              "\n",
              "    [theme=dark] .colab-df-convert {\n",
              "      background-color: #3B4455;\n",
              "      fill: #D2E3FC;\n",
              "    }\n",
              "\n",
              "    [theme=dark] .colab-df-convert:hover {\n",
              "      background-color: #434B5C;\n",
              "      box-shadow: 0px 1px 3px 1px rgba(0, 0, 0, 0.15);\n",
              "      filter: drop-shadow(0px 1px 2px rgba(0, 0, 0, 0.3));\n",
              "      fill: #FFFFFF;\n",
              "    }\n",
              "  </style>\n",
              "\n",
              "      <script>\n",
              "        const buttonEl =\n",
              "          document.querySelector('#df-6a20245d-5097-4128-8ddc-bccbc13e99ca button.colab-df-convert');\n",
              "        buttonEl.style.display =\n",
              "          google.colab.kernel.accessAllowed ? 'block' : 'none';\n",
              "\n",
              "        async function convertToInteractive(key) {\n",
              "          const element = document.querySelector('#df-6a20245d-5097-4128-8ddc-bccbc13e99ca');\n",
              "          const dataTable =\n",
              "            await google.colab.kernel.invokeFunction('convertToInteractive',\n",
              "                                                     [key], {});\n",
              "          if (!dataTable) return;\n",
              "\n",
              "          const docLinkHtml = 'Like what you see? Visit the ' +\n",
              "            '<a target=\"_blank\" href=https://colab.research.google.com/notebooks/data_table.ipynb>data table notebook</a>'\n",
              "            + ' to learn more about interactive tables.';\n",
              "          element.innerHTML = '';\n",
              "          dataTable['output_type'] = 'display_data';\n",
              "          await google.colab.output.renderOutput(dataTable, element);\n",
              "          const docLink = document.createElement('div');\n",
              "          docLink.innerHTML = docLinkHtml;\n",
              "          element.appendChild(docLink);\n",
              "        }\n",
              "      </script>\n",
              "    </div>\n",
              "  </div>\n",
              "  "
            ]
          },
          "metadata": {},
          "execution_count": 4
        }
      ],
      "source": [
        "alldata.head()"
      ]
    },
    {
      "cell_type": "code",
      "execution_count": null,
      "metadata": {
        "colab": {
          "base_uri": "https://localhost:8080/"
        },
        "id": "hV8XwZcBGg_G",
        "outputId": "6a195bb1-f251-4b47-8029-743db08cb500"
      },
      "outputs": [
        {
          "output_type": "execute_result",
          "data": {
            "text/plain": [
              "(5670, 10)"
            ]
          },
          "metadata": {},
          "execution_count": 4
        }
      ],
      "source": [
        "alldata.shape"
      ]
    },
    {
      "cell_type": "markdown",
      "metadata": {
        "id": "uLjxKMVoGub_"
      },
      "source": [
        "# Log likelihood"
      ]
    },
    {
      "cell_type": "markdown",
      "metadata": {
        "id": "UMdZ1ukRG4Y-"
      },
      "source": [
        "Implement ACT-R code:"
      ]
    },
    {
      "cell_type": "code",
      "execution_count": null,
      "metadata": {
        "colab": {
          "base_uri": "https://localhost:8080/"
        },
        "id": "zOnwozhTGttJ",
        "outputId": "a40c1705-d549-418e-9f81-3400db4b29f9"
      },
      "outputs": [
        {
          "output_type": "execute_result",
          "data": {
            "text/plain": [
              "-0.5949230018850301"
            ]
          },
          "metadata": {},
          "execution_count": 5
        }
      ],
      "source": [
        "def activation(traces, time, decay):\n",
        "    \"\"\"Computes the activation of a memory given its history of retrievals\"\"\"\n",
        "    ftraces = [x for x in traces if x < time]\n",
        "    decay = max(0, decay)  # Allows no positive decay rates in equation \n",
        "    decay - min(decay, 5)\n",
        "    times = time - np.array(ftraces)\n",
        "    odds = times ** -decay\n",
        "    return np.log(np.sum(odds))\n",
        "\n",
        "activation([5, 10, 15], 40, 0.5)"
      ]
    },
    {
      "cell_type": "code",
      "execution_count": null,
      "metadata": {
        "colab": {
          "base_uri": "https://localhost:8080/",
          "height": 458
        },
        "id": "9O1NxeppG71j",
        "outputId": "3d5e69db-9bd1-4bfd-9bd3-d38e56a337b6"
      },
      "outputs": [
        {
          "output_type": "display_data",
          "data": {
            "text/plain": [
              "<Figure size 640x480 with 1 Axes>"
            ],
            "image/png": "[encoded data removed]"
          },
          "metadata": {}
        }
      ],
      "source": [
        "time = np.linspace(0.1, 100, 100)\n",
        "traces = [0.001, 5, 25]\n",
        "y = []\n",
        "for t in time:\n",
        "    act = activation(traces, t, 0.5)\n",
        "    y += [act]\n",
        "    \n",
        "plt.plot(time, y)\n",
        "plt.xlabel(\"Time\")\n",
        "plt.ylabel(\"Activation\")\n",
        "plt.show()"
      ]
    },
    {
      "cell_type": "markdown",
      "metadata": {
        "id": "F5O-Ma2bHHCe"
      },
      "source": [
        "Create loglikelihood function for the model"
      ]
    },
    {
      "cell_type": "code",
      "execution_count": null,
      "metadata": {
        "id": "4nYd7AWEHC6a"
      },
      "outputs": [],
      "source": [
        "def boltzmann(options, values, temperature):\n",
        "    \"\"\"Returns a Boltzmann distribution of the probabilities of each option\"\"\"\n",
        "    temperature = max(temperature, 0.01) \n",
        "    vals = np.array(values)/temperature\n",
        "    #bvals = np.exp(vals)/np.sum(np.exp(vals))\n",
        "    bvals = np.exp(vals - np.max(vals)) / np.exp(vals - np.max(vals)).sum()\n",
        "    return dict(zip(options, bvals))"
      ]
    },
    {
      "cell_type": "code",
      "execution_count": null,
      "metadata": {
        "colab": {
          "base_uri": "https://localhost:8080/"
        },
        "id": "infLxnLdIU7o",
        "outputId": "a9f0a084-e58f-441c-81cb-9fd861020338"
      },
      "outputs": [
        {
          "output_type": "execute_result",
          "data": {
            "text/plain": [
              "{2: 0.574442516811659, 3: 0.425557483188341}"
            ]
          },
          "metadata": {},
          "execution_count": 8
        }
      ],
      "source": [
        "boltzmann([2,3], [1, 0.7], 1)"
      ]
    },
    {
      "cell_type": "markdown",
      "metadata": {
        "id": "NaK3W3zCI63e"
      },
      "source": [
        "Create a loglikelihood function for the elaborative model, each error item is given additional spreading activation given the max association (mas) parameter"
      ]
    },
    {
      "cell_type": "markdown",
      "metadata": {
        "id": "0hWua1X6GL_h"
      },
      "source": [
        "### Complete *elaborative* model"
      ]
    },
    {
      "cell_type": "code",
      "execution_count": null,
      "metadata": {
        "id": "KMLIBhGdIteL"
      },
      "outputs": [],
      "source": [
        "def LLelab(data, decay, temp, mas):\n",
        "    \"\"\"For each trial, calculate the probability of that response, sum the log likelihoods, and update the values\"\"\"\n",
        "    # create a list of error items\n",
        "    errors = data[data.phase == \"learn\"].cue.tolist()\n",
        "    # create a list of study items\n",
        "    study = data[data.condition == 2].cue.tolist()\n",
        "    # since we don't have data for when study items were presented in each participant's learning phase\n",
        "    # we will use the presentation of the error items and interleaven the study items in between\n",
        "    pos = 1\n",
        "    present = errors[:]\n",
        "    for i in range(len(errors)):\n",
        "      word = study[i]\n",
        "      present.insert(pos, word)\n",
        "      pos += 2\n",
        "\n",
        "    # Create dict with word pairs\n",
        "    pairs = {}\n",
        "    for cue, target in zip(data[data.phase == \"test\"].cue,data[data.phase == \"test\"].target):\n",
        "      pairs[cue] = target\n",
        "    # also create a dict with errors\n",
        "    errorResp = dict()\n",
        "    for cue,response in zip(data[data.phase == \"learn\"].cue,data[data.phase == \"learn\"].response):\n",
        "      errorResp[cue] = response\n",
        "\n",
        "    # model learning phase, encode a single trace for each item: (idk what to set activation at)\n",
        "    DM = dict()\n",
        "    # for DM can we make a dictionary of dictionaries where big keys are cues, values are dictionary of target/\n",
        "    # possible responses and their activation\n",
        "    time = 0\n",
        "    step = 10 #time for learning each item\n",
        "    for cue in present:\n",
        "      littleDM = {}\n",
        "      # make a set of all reponses given to a certain cue to be \"vocab for that cue\"\n",
        "      for response in set(alldata[alldata.cue == cue].response):\n",
        "        littleDM[response] = [0.001]\n",
        "      # add retrieval of error for error items\n",
        "      if cue in errorResp.keys():\n",
        "        error = errorResp[cue]\n",
        "        time +=5\n",
        "        littleDM[error] = [0.001, time]\n",
        "      # overwrite smaller activ of correct target to show task learning\n",
        "        time +=5\n",
        "        littleDM[pairs[cue]] = [0.001, time]\n",
        "      else:\n",
        "        time += 10\n",
        "        littleDM[pairs[cue]] = [0.001, time]\n",
        "      DM[cue] = littleDM\n",
        "    time += 300 # time for distractor phase\n",
        "\n",
        "\n",
        "    # model testing phase\n",
        "    LL = 0\n",
        "    for condition, cue, response, rt, feedback in zip(data[data.phase == \"test\"].condition,\n",
        "                                   data[data.phase == \"test\"].cue, \n",
        "                                   data[data.phase == \"test\"].response, \n",
        "                                   data[data.phase == \"test\"].rt, \n",
        "                                   data[data.phase == \"test\"].correct):\n",
        "      # Calculate log likelihood of response- possible options are 19 random integers\n",
        "      # or correct associate\n",
        "      options = DM[cue].keys()\n",
        "      # create spreading activation additional error component given size of cue's dec mem\n",
        "      cueMem = len(DM[cue])\n",
        "      add = (mas - np.log((cueMem + 1)/2)) - (mas - np.log((cueMem + 1)/1))\n",
        "      # if error condition, add spreading activation\n",
        "      values = [activation(DM[cue][opt], time, decay) if condition == 1 else \n",
        "       (activation(DM[cue][opt], time, decay) + add) for opt in options]\n",
        "      prob = boltzmann(options, values, temp)[response]\n",
        "    \n",
        "      # Sum up the LLs\n",
        "      LL += np.log(max(prob, 10e-10))\n",
        "\n",
        "       # add time taken to responde\n",
        "      time += rt/1000\n",
        "    \n",
        "    return LL"
      ]
    },
    {
      "cell_type": "code",
      "execution_count": null,
      "metadata": {
        "colab": {
          "base_uri": "https://localhost:8080/"
        },
        "id": "yahI4_8z7t5o",
        "outputId": "0db50f1c-5eb6-4b7e-e78e-411638a39f76"
      },
      "outputs": [
        {
          "output_type": "execute_result",
          "data": {
            "text/plain": [
              "-174.4412782790136"
            ]
          },
          "metadata": {},
          "execution_count": 10
        }
      ],
      "source": [
        "LLelab(alldata[alldata.participant == 1001], 0.5, 1, 1.6)"
      ]
    },
    {
      "cell_type": "code",
      "execution_count": null,
      "metadata": {
        "colab": {
          "base_uri": "https://localhost:8080/"
        },
        "id": "X9bwBrAI8JLq",
        "outputId": "1a837c88-4964-47b8-ad3f-a758c6c72376"
      },
      "outputs": [
        {
          "output_type": "execute_result",
          "data": {
            "text/plain": [
              "-177.46115123650327"
            ]
          },
          "metadata": {},
          "execution_count": 11
        }
      ],
      "source": [
        "LLelab(alldata[alldata.participant == 1002], 0.5, 1, 4)"
      ]
    },
    {
      "cell_type": "markdown",
      "metadata": {
        "id": "bft75J6OTfGn"
      },
      "source": [
        "Create a loglikelihood function of the mediator model, where there are two routes to make a decision: To remember something that worked and to remember something that did not."
      ]
    },
    {
      "cell_type": "code",
      "execution_count": null,
      "metadata": {
        "id": "6oDf4YA7T3To"
      },
      "outputs": [],
      "source": [
        "def LLmed(data, decay, temp):\n",
        "    \"\"\"For each trial, calculate the probability of that response, sum the log likelihoods, and update the values\"\"\"\n",
        "    # create a list of error items\n",
        "    errors = data[data.phase == \"learn\"].cue.tolist()\n",
        "    # create a list of study items\n",
        "    study = data[data.condition == 2].cue.tolist()\n",
        "    pos = 1\n",
        "    present = errors[:]\n",
        "    for i in range(len(errors)):\n",
        "      word = study[i]\n",
        "      present.insert(pos, word)\n",
        "      pos += 2\n",
        "\n",
        "    # Create dict with word pairs\n",
        "    pairs = {}\n",
        "    for cue, target in zip(data[data.phase == \"test\"].cue,data[data.phase == \"test\"].target):\n",
        "      pairs[cue] = target\n",
        "    # also create a dict with errors\n",
        "    errorResp = dict()\n",
        "    for cue,response in zip(data[data.phase == \"learn\"].cue,data[data.phase == \"learn\"].response):\n",
        "      errorResp[cue] = response\n",
        "\n",
        "    # model learning phase, encode a single trace for each item: (idk what to set activation at)\n",
        "    DM = dict()\n",
        "    # for DM can we make a dictionary of dictionaries where big keys are cues, values are dictionary of target/\n",
        "    # possible responses and their activation\n",
        "    time = 0\n",
        "    step = 10 #time for learning each item\n",
        "    for cue in present:\n",
        "      littleDM = {}\n",
        "      # make a set of all reponses given to a certain cue to be \"vocab for that cue\"\n",
        "      for response in set(alldata[alldata.cue == cue].response):\n",
        "        littleDM[response] = [0.001]\n",
        "      # add retrieval of error for error items\n",
        "      if cue in errorResp.keys():\n",
        "        error = errorResp[cue]\n",
        "        time +=5\n",
        "        littleDM[error] = [0.001, time]\n",
        "      # overwrite smaller activ of correct target to show task learning\n",
        "        time +=5\n",
        "        littleDM[pairs[cue]] = [0.001, time]\n",
        "      else:\n",
        "        time += 10\n",
        "        littleDM[pairs[cue]] = [0.001, time]\n",
        "      DM[cue] = littleDM\n",
        "    time += 300 # time for distractor phase\n",
        "\n",
        "    # model testing phase\n",
        "    LL = 0\n",
        "    \n",
        "    for condition, cue, response, rt, feedback in zip(data[data.phase == \"test\"].condition,\n",
        "                                   data[data.phase == \"test\"].cue, \n",
        "                                   data[data.phase == \"test\"].response, \n",
        "                                   data[data.phase == \"test\"].rt, \n",
        "                                   data[data.phase == \"test\"].correct):\n",
        "        # Calculate log likelihood of response- possible options are 19 random integers\n",
        "        # or correct associate\n",
        "        options = DM[cue].keys()\n",
        "        # create spreading activation additional error component given size of cue's dec mem\n",
        "        cueMem = len(DM[cue])\n",
        "        # if error condition, add spreading activation\n",
        "        values = [activation(DM[cue][opt], time, decay) for opt in options]\n",
        "        prob1 = boltzmann(options, values, temp)[response]\n",
        "        \n",
        "        # probability of retrieving error memory\n",
        "        if condition == 1:\n",
        "          error = errorResp[cue]\n",
        "          prob2 = boltzmann(options, values, temp)[error]\n",
        "        else:\n",
        "          prob2 = 0\n",
        "        \n",
        "        # Sum up the LLs\n",
        "        LL += np.log(max(prob1 + prob2, 10e-10))\n",
        "        \n",
        "         # add time taken to responde\n",
        "        time += rt/1000\n",
        "        \n",
        "    return LL"
      ]
    },
    {
      "cell_type": "code",
      "execution_count": null,
      "metadata": {
        "colab": {
          "base_uri": "https://localhost:8080/"
        },
        "id": "mmmyXeOdETlj",
        "outputId": "20d22e56-5c0f-43ad-b5bf-26d13cdfd41c"
      },
      "outputs": [
        {
          "output_type": "execute_result",
          "data": {
            "text/plain": [
              "-148.38513809212435"
            ]
          },
          "metadata": {},
          "execution_count": 13
        }
      ],
      "source": [
        "LLmed(alldata[alldata.participant == 1001], 0.5, 1)"
      ]
    },
    {
      "cell_type": "code",
      "execution_count": null,
      "metadata": {
        "colab": {
          "base_uri": "https://localhost:8080/"
        },
        "id": "RGuZGMVvExA5",
        "outputId": "10d6b9b4-d0ec-4a81-b06f-1574bcd40bb8"
      },
      "outputs": [
        {
          "output_type": "execute_result",
          "data": {
            "text/plain": [
              "-150.88790456104599"
            ]
          },
          "metadata": {},
          "execution_count": 14
        }
      ],
      "source": [
        "LLmed(alldata[alldata.participant == 1002], 0.5, 1)"
      ]
    },
    {
      "cell_type": "markdown",
      "metadata": {
        "id": "AMZivWprDOAT"
      },
      "source": [
        "# Create RT models"
      ]
    },
    {
      "cell_type": "code",
      "execution_count": 21,
      "metadata": {
        "id": "AickrN7GDlaO"
      },
      "outputs": [],
      "source": [
        "def responsetime(activation, ter, F=1, f=1):\n",
        "    return ter + F * np.exp(-f * activation)"
      ]
    },
    {
      "cell_type": "code",
      "execution_count": null,
      "metadata": {
        "colab": {
          "base_uri": "https://localhost:8080/",
          "height": 458
        },
        "id": "_A-v7qV7DmXr",
        "outputId": "2707b92d-ef37-4471-8b0d-772359886134"
      },
      "outputs": [
        {
          "output_type": "display_data",
          "data": {
            "text/plain": [
              "<Figure size 640x480 with 1 Axes>"
            ],
            "image/png": "[encoded data removed]"
          },
          "metadata": {}
        }
      ],
      "source": [
        "noise = np.linspace(-2, 2)\n",
        "dist = sp.stats.logistic(0, 0.2)\n",
        "plt.plot(noise, dist.pdf(noise))\n",
        "plt.xlabel(\"Noise $s$\")\n",
        "plt.ylabel(\"Probability $P$\")\n",
        "plt.show()"
      ]
    },
    {
      "cell_type": "code",
      "execution_count": null,
      "metadata": {
        "colab": {
          "base_uri": "https://localhost:8080/",
          "height": 480
        },
        "id": "7LaZcjs-D-hL",
        "outputId": "f273ff60-2220-4fbb-9340-a22416362a68"
      },
      "outputs": [
        {
          "output_type": "display_data",
          "data": {
            "text/plain": [
              "<Figure size 640x480 with 1 Axes>"
            ],
            "image/png": "[encoded data removed]"
          },
          "metadata": {}
        }
      ],
      "source": [
        "rts = [responsetime(0.5 - x) for x in noise]\n",
        "plt.plot(rts, dist.pdf(noise))\n",
        "plt.xlabel(\"Response Time (s)\")\n",
        "plt.ylabel(\"Probability $P$\")\n",
        "plt.title(\"RT distributions when $s$ = 0.2\")\n",
        "plt.show()"
      ]
    },
    {
      "cell_type": "code",
      "execution_count": null,
      "metadata": {
        "colab": {
          "base_uri": "https://localhost:8080/",
          "height": 480
        },
        "id": "nTAIDWYZEC5J",
        "outputId": "fb69f487-4c95-4a1b-a369-ff415a8a0e5c"
      },
      "outputs": [
        {
          "output_type": "display_data",
          "data": {
            "text/plain": [
              "<Figure size 640x480 with 1 Axes>"
            ],
            "image/png": "[encoded data removed]"
          },
          "metadata": {}
        }
      ],
      "source": [
        "for s in np.linspace(0.2, 0.8, 7):\n",
        "    dist = sp.stats.logistic(0, ((math.pi**2)*s)/3)\n",
        "    rts = [responsetime(0.5 - x) for x in noise]\n",
        "    plt.plot(rts, dist.pdf(noise))\n",
        "plt.legend([\"$s$ = %.1f\" % (x,) for x in np.linspace(0.2, 0.8, 7)])\n",
        "plt.xlabel(\"Response Time (s)\")\n",
        "plt.ylabel(\"Probability $P$\")\n",
        "plt.title(\"RT distributions for different levels of noise $s$\")\n",
        "plt.show()"
      ]
    },
    {
      "cell_type": "code",
      "execution_count": 22,
      "metadata": {
        "id": "s0BKpqZQEGJ_"
      },
      "outputs": [],
      "source": [
        "from urllib.request import proxy_bypass\n",
        "def rtProb(rt, activation, s, ter):\n",
        "  \"\"\"Takes one parameter for noise, s, and outputs a probability distribution for response times\"\"\"\n",
        "  noise = np.linspace(-2, 2)\n",
        "  dist = sp.stats.logistic(0, ((math.pi**2)*s)/3)\n",
        "  rts = [responsetime((activation - x), ter) for x in noise]\n",
        "  prob = dist.pdf(noise)\n",
        "  rtprob = {rts[i]:prob[i]for i in range(len(noise))}\n",
        "  val = min(rtprob.keys(), key=lambda x: abs(x - (rt/1000)))\n",
        "  return rtprob[val]"
      ]
    },
    {
      "cell_type": "code",
      "execution_count": 24,
      "metadata": {
        "colab": {
          "base_uri": "https://localhost:8080/"
        },
        "id": "JKKNDiaFjwfb",
        "outputId": "3c2d0378-17d5-45ed-c051-c94dabd8052a"
      },
      "outputs": [
        {
          "output_type": "execute_result",
          "data": {
            "text/plain": [
              "0.06938066766236886"
            ]
          },
          "metadata": {},
          "execution_count": 24
        }
      ],
      "source": [
        "rtProb(5030, 3, 1, 1)"
      ]
    },
    {
      "cell_type": "markdown",
      "metadata": {
        "id": "dBBYG2u8tGz3"
      },
      "source": [
        "## Elaborative Model"
      ]
    },
    {
      "cell_type": "code",
      "execution_count": 42,
      "metadata": {
        "id": "DAmc6sa3DMuC"
      },
      "outputs": [],
      "source": [
        "def LLelabRT(data, decay, temp, ter, mas = 1.6):\n",
        "    \"\"\"For each trial, calculate the probability of that response, sum the log likelihoods, and update the values\"\"\"\n",
        "    # create a list of error items\n",
        "    errors = data[data.phase == \"learn\"].cue.tolist()\n",
        "    # create a list of study items\n",
        "    study = data[data.condition == 2].cue.tolist()\n",
        "    pos = 1\n",
        "    present = errors[:]\n",
        "    for i in range(len(errors)):\n",
        "      word = study[i]\n",
        "      present.insert(pos, word)\n",
        "      pos += 2\n",
        "\n",
        "    # Create dict with word pairs\n",
        "    pairs = {}\n",
        "    for cue, target in zip(data[data.phase == \"test\"].cue,data[data.phase == \"test\"].target):\n",
        "      pairs[cue] = target\n",
        "    # also create a dict with errors\n",
        "    errorResp = dict()\n",
        "    for cue,response in zip(data[data.phase == \"learn\"].cue,data[data.phase == \"learn\"].response):\n",
        "      errorResp[cue] = response\n",
        "\n",
        "    # model learning phase, encode a single trace for each item: (idk what to set activation at)\n",
        "    DM = dict()\n",
        "    # for DM can we make a dictionary of dictionaries where big keys are cues, values are dictionary of target/\n",
        "    # possible responses and their activation\n",
        "    time = 0\n",
        "    step = 10 #time for learning each item\n",
        "    for cue in present:\n",
        "      littleDM = {}\n",
        "      # make a set of all reponses given to a certain cue to be \"vocab for that cue\"\n",
        "      for response in set(alldata[alldata.cue == cue].response):\n",
        "        littleDM[response] = [0.001]\n",
        "      # add retrieval of error for error items\n",
        "      if cue in errorResp.keys():\n",
        "        error = errorResp[cue]\n",
        "        time +=5\n",
        "        littleDM[error] = [0.001, time]\n",
        "      # overwrite smaller activ of correct target to show task learning\n",
        "        time +=5\n",
        "        littleDM[pairs[cue]] = [0.001, time]\n",
        "      else:\n",
        "        time += 10\n",
        "        littleDM[pairs[cue]] = [0.001, time]\n",
        "      DM[cue] = littleDM\n",
        "    time += 300 # time for distractor phase\n",
        "\n",
        "\n",
        "    # model testing phase\n",
        "    LL = 0\n",
        "    for condition, cue, response, rt, feedback in zip(data[data.phase == \"test\"].condition,\n",
        "                                   data[data.phase == \"test\"].cue, \n",
        "                                   data[data.phase == \"test\"].response, \n",
        "                                   data[data.phase == \"test\"].rt, \n",
        "                                   data[data.phase == \"test\"].correct):\n",
        "      # Calculate log likelihood of response- possible options are 19 random integers\n",
        "      # or correct associate\n",
        "      options = DM[cue].keys()\n",
        "      # create spreading activation additional error component given size of cue's dec mem\n",
        "      cueMem = len(DM[cue])\n",
        "      add = (mas - np.log((cueMem + 1)/2)) - (mas - np.log((cueMem + 1)/1))\n",
        "      # if error condition, add spreading activation\n",
        "      values = [(activation(DM[cue][opt], time, decay) + add) if condition == 1 else \n",
        "       activation(DM[cue][opt], time, decay) for opt in options]\n",
        "      prob = boltzmann(options, values, temp)[response]\n",
        "    \n",
        "      # now calculate response times:\n",
        "      if condition == 1:\n",
        "        resp_activation = activation(DM[cue][response], time, decay) + add\n",
        "      else: \n",
        "        resp_activation = activation(DM[cue][response], time, decay)\n",
        "\n",
        "      \n",
        "      prob_rt = rtProb(rt, resp_activation, temp, ter)\n",
        "\n",
        "      # Sum up the LLs\n",
        "      LL += (np.log(max(prob, 10e-10)) + np.log(max(prob_rt, 10e-10)))\n",
        "\n",
        "       # add time taken to responde\n",
        "      time += rt/1000\n",
        "    \n",
        "    return LL"
      ]
    },
    {
      "cell_type": "code",
      "execution_count": 28,
      "metadata": {
        "colab": {
          "base_uri": "https://localhost:8080/"
        },
        "id": "od62A0A0siuO",
        "outputId": "83bb3700-4a83-4551-a3e9-4ae0746286ec"
      },
      "outputs": [
        {
          "output_type": "execute_result",
          "data": {
            "text/plain": [
              "-331.94426293118033"
            ]
          },
          "metadata": {},
          "execution_count": 28
        }
      ],
      "source": [
        "LLelabRT(alldata[alldata.participant == 1001], 0.5, 1, 1.6, 1)"
      ]
    },
    {
      "cell_type": "code",
      "execution_count": 29,
      "metadata": {
        "colab": {
          "base_uri": "https://localhost:8080/"
        },
        "id": "c26HJ-h9E6AJ",
        "outputId": "819a718e-58b4-4903-f943-694f9cf5ed8e"
      },
      "outputs": [
        {
          "output_type": "execute_result",
          "data": {
            "text/plain": [
              "-336.0290513519996"
            ]
          },
          "metadata": {},
          "execution_count": 29
        }
      ],
      "source": [
        "LLelabRT(alldata[alldata.participant == 1002], 0.5, 1, 1.6, 1)"
      ]
    },
    {
      "cell_type": "markdown",
      "metadata": {
        "id": "k94iDUxOtKy_"
      },
      "source": [
        "## Mediator Model"
      ]
    },
    {
      "cell_type": "code",
      "execution_count": 35,
      "metadata": {
        "id": "cappHS-GwJ2C"
      },
      "outputs": [],
      "source": [
        "from urllib.request import proxy_bypass\n",
        "def rtProb2(rt, resp_activation, error_activation, condition, s, ter):\n",
        "  \"\"\"Takes one parameter for noise, s, and outputs a probability distribution for response times\"\"\"\n",
        "  noise = np.linspace(-2, 2)\n",
        "  dist = sp.stats.logistic(0, ((math.pi**2)*s)/3)\n",
        "  if condition == 1:\n",
        "    rts = [(responsetime((resp_activation - x), ter) + responsetime((error_activation - x), ter)) for x in noise]\n",
        "  else: \n",
        "    rts = [responsetime((resp_activation - x), ter) for x in noise]\n",
        "  prob = dist.pdf(noise)\n",
        "  rtprob = {rts[i]:prob[i]for i in range(len(noise))}\n",
        "  val = min(rtprob.keys(), key=lambda x: abs(x - (rt/1000)))\n",
        "  return rtprob[val]"
      ]
    },
    {
      "cell_type": "code",
      "execution_count": 36,
      "metadata": {
        "colab": {
          "base_uri": "https://localhost:8080/"
        },
        "id": "7BDYgqgnPFCz",
        "outputId": "34e98ba1-8f4a-4b94-a15f-699c1eae0e84"
      },
      "outputs": [
        {
          "output_type": "execute_result",
          "data": {
            "text/plain": [
              "0.06623604915380878"
            ]
          },
          "metadata": {},
          "execution_count": 36
        }
      ],
      "source": [
        "rtProb2(6100, 3, 2, 1, 0.2, 1)"
      ]
    },
    {
      "cell_type": "code",
      "execution_count": 37,
      "metadata": {
        "id": "06orMyzjtFR4"
      },
      "outputs": [],
      "source": [
        "def LLmedRT(data, decay, temp, ter):\n",
        "    \"\"\"For each trial, calculate the probability of that response, sum the log likelihoods, and update the values\"\"\"\n",
        "    # create a list of error items\n",
        "    errors = data[data.phase == \"learn\"].cue.tolist()\n",
        "    # create a list of study items\n",
        "    study = data[data.condition == 2].cue.tolist()\n",
        "    pos = 1\n",
        "    present = errors[:]\n",
        "    for i in range(len(errors)):\n",
        "      word = study[i]\n",
        "      present.insert(pos, word)\n",
        "      pos += 2\n",
        "\n",
        "    # Create dict with word pairs\n",
        "    pairs = {}\n",
        "    for cue, target in zip(data[data.phase == \"test\"].cue,data[data.phase == \"test\"].target):\n",
        "      pairs[cue] = target\n",
        "    # also create a dict with errors\n",
        "    errorResp = dict()\n",
        "    for cue,response in zip(data[data.phase == \"learn\"].cue,data[data.phase == \"learn\"].response):\n",
        "      errorResp[cue] = response\n",
        "\n",
        "    # model learning phase, encode a single trace for each item: (idk what to set activation at)\n",
        "    DM = dict()\n",
        "    # for DM can we make a dictionary of dictionaries where big keys are cues, values are dictionary of target/\n",
        "    # possible responses and their activation\n",
        "    time = 0\n",
        "    step = 10 #time for learning each item\n",
        "    for cue in present:\n",
        "      littleDM = {}\n",
        "      # make a set of all reponses given to a certain cue to be \"vocab for that cue\"\n",
        "      for response in set(alldata[alldata.cue == cue].response):\n",
        "        littleDM[response] = [0.001]\n",
        "      # add retrieval of error for error items\n",
        "      if cue in errorResp.keys():\n",
        "        error = errorResp[cue]\n",
        "        time +=5\n",
        "        littleDM[error] = [0.001, time]\n",
        "      # overwrite smaller activ of correct target to show task learning\n",
        "        time +=5\n",
        "        littleDM[pairs[cue]] = [0.001, time]\n",
        "      else:\n",
        "        time += 10\n",
        "        littleDM[pairs[cue]] = [0.001, time]\n",
        "      DM[cue] = littleDM\n",
        "    time += 300 # time for distractor phase\n",
        "\n",
        "    # model testing phase\n",
        "    LL = 0\n",
        "    \n",
        "    for condition, cue, response, rt, feedback in zip(data[data.phase == \"test\"].condition,\n",
        "                                   data[data.phase == \"test\"].cue, \n",
        "                                   data[data.phase == \"test\"].response, \n",
        "                                   data[data.phase == \"test\"].rt, \n",
        "                                   data[data.phase == \"test\"].correct):\n",
        "        # Calculate log likelihood of response- possible options are 19 random integers\n",
        "        # or correct associate\n",
        "        options = DM[cue].keys()\n",
        "\n",
        "        # calculate probability of retrieving given response\n",
        "        values = [activation(DM[cue][opt], time, decay) for opt in options]\n",
        "        prob1 = boltzmann(options, values, temp)[response]\n",
        "        \n",
        "        # probability of retrieving error memory\n",
        "        if condition == 1:\n",
        "          error = errorResp[cue]\n",
        "          prob2 = boltzmann(options, values, temp)[error]\n",
        "        else:\n",
        "          prob2 = 0\n",
        "        \n",
        "        # add response times calculations\n",
        "        # probability of given response time with\n",
        "        respAct = activation(DM[cue][response], time, decay)\n",
        "        if condition == 1:\n",
        "          error = errorResp[cue]\n",
        "          errorAct = activation(DM[cue][error], time, decay)\n",
        "          prob_rt = rtProb2(rt, respAct, errorAct, condition, temp, ter)\n",
        "        else:\n",
        "          errorAct = 0\n",
        "          prob_rt = rtProb2(rt, respAct, errorAct, condition, temp, ter)\n",
        "\n",
        "        # Sum up the LLs\n",
        "        LL += (np.log(max(prob1 + prob2, 10e-10)) + np.log(max(prob_rt, 10e-10)))\n",
        "        \n",
        "         # add time taken to responde\n",
        "        time += rt/1000\n",
        "        \n",
        "    return LL"
      ]
    },
    {
      "cell_type": "code",
      "execution_count": 38,
      "metadata": {
        "colab": {
          "base_uri": "https://localhost:8080/"
        },
        "id": "PU1kSzEG0FJD",
        "outputId": "64d2a6e8-498b-44c0-926d-a59032c399e2"
      },
      "outputs": [
        {
          "output_type": "execute_result",
          "data": {
            "text/plain": [
              "-306.85726959566483"
            ]
          },
          "metadata": {},
          "execution_count": 38
        }
      ],
      "source": [
        "LLmedRT(alldata[alldata.participant == 1001], 0.5, 1, 1)"
      ]
    },
    {
      "cell_type": "code",
      "execution_count": 39,
      "metadata": {
        "colab": {
          "base_uri": "https://localhost:8080/"
        },
        "id": "N8P4j9Lyknay",
        "outputId": "51c97786-ee41-434d-a0c4-03b75f2187c2"
      },
      "outputs": [
        {
          "output_type": "execute_result",
          "data": {
            "text/plain": [
              "-310.6598999795973"
            ]
          },
          "metadata": {},
          "execution_count": 39
        }
      ],
      "source": [
        "LLmedRT(alldata[alldata.participant == 1002], 0.5, 1, 1)"
      ]
    },
    {
      "cell_type": "markdown",
      "metadata": {
        "id": "nbZ8QgPmB9_j"
      },
      "source": [
        "# Optimizing the Models"
      ]
    },
    {
      "cell_type": "markdown",
      "metadata": {
        "id": "_xG-LzMACBMZ"
      },
      "source": [
        "## Elaborative Optimization"
      ]
    },
    {
      "cell_type": "code",
      "execution_count": 43,
      "metadata": {
        "id": "1r5gcKhxB9LO"
      },
      "outputs": [],
      "source": [
        "def vLLelab(array):\n",
        "    \"\"\"Vector function of procedural log-likelihood\"\"\"\n",
        "    global data\n",
        "    decay, temp, ter = array\n",
        "    return -1 * LLelabRT(data, decay, temp, ter)"
      ]
    },
    {
      "cell_type": "code",
      "source": [
        "def vLLmed(array):\n",
        "    \"\"\"Vector function of procedural log-likelihood\"\"\"\n",
        "    global data\n",
        "    decay, temp, ter = array\n",
        "    return -1 * LLmedRT(data, decay, temp, ter)"
      ],
      "metadata": {
        "id": "Z1ld48DEhDEM"
      },
      "execution_count": 44,
      "outputs": []
    },
    {
      "cell_type": "code",
      "execution_count": null,
      "metadata": {
        "colab": {
          "background_save": true
        },
        "id": "eckpsfNmRjpc",
        "outputId": "47b9de98-bd8d-4d4a-d601-98a93e3ca2ae"
      },
      "outputs": [
        {
          "data": {
            "text/plain": [
              "       message: Optimization terminated successfully.\n",
              "       success: True\n",
              "        status: 0\n",
              "           fun: 13553.706840967823\n",
              "             x: [ 1.758e-01  2.282e-01]\n",
              "           nit: 100\n",
              "          nfev: 208\n",
              " final_simplex: (array([[ 1.758e-01,  2.282e-01],\n",
              "                       [ 1.758e-01,  2.282e-01],\n",
              "                       [ 1.758e-01,  2.282e-01]]), array([ 1.355e+04,  1.355e+04,  1.355e+04]))"
            ]
          },
          "execution_count": 35,
          "metadata": {},
          "output_type": "execute_result"
        }
      ],
      "source": [
        "opt.minimize(vLLelab, x0 = [0.2, 1], method = \"Nelder-Mead\")"
      ]
    },
    {
      "cell_type": "markdown",
      "metadata": {
        "id": "Js8XUZXPRItm"
      },
      "source": [
        "## Mediator Optimization"
      ]
    },
    {
      "cell_type": "markdown",
      "metadata": {
        "id": "6lyASKh7oHWm"
      },
      "source": [
        "# Calculate LL for each ppt and assign best model"
      ]
    },
    {
      "cell_type": "code",
      "execution_count": null,
      "metadata": {
        "id": "jVGbx0eaoLOh"
      },
      "outputs": [],
      "source": [
        "df = pd.DataFrame(columns = ['participant', 'LLelab', 'LLmed', 'LLdiff', 'best'])\n",
        "participant = alldata.participant.unique().tolist()\n",
        "LLelab = []\n",
        "LLmed = []\n",
        "for ppt in participant:\n",
        "  data = alldata[alldata.participant == ppt]\n",
        "  LLelab.append(LLelabRT(data, 0.5, 1, 1.6))\n",
        "  LLmed.append(LLmedRT(data, 0.5, 1))"
      ]
    },
    {
      "cell_type": "code",
      "execution_count": null,
      "metadata": {
        "colab": {
          "base_uri": "https://localhost:8080/",
          "height": 423
        },
        "id": "BEfpWDAHsJ_L",
        "outputId": "d5819c07-b1cf-46fd-b4f4-c9035b86293a"
      },
      "outputs": [
        {
          "data": {
            "text/html": [
              "\n",
              "  <div id=\"df-2d373d63-a916-44d5-bb6a-86d2acab7046\">\n",
              "    <div class=\"colab-df-container\">\n",
              "      <div>\n",
              "<style scoped>\n",
              "    .dataframe tbody tr th:only-of-type {\n",
              "        vertical-align: middle;\n",
              "    }\n",
              "\n",
              "    .dataframe tbody tr th {\n",
              "        vertical-align: top;\n",
              "    }\n",
              "\n",
              "    .dataframe thead th {\n",
              "        text-align: right;\n",
              "    }\n",
              "</style>\n",
              "<table border=\"1\" class=\"dataframe\">\n",
              "  <thead>\n",
              "    <tr style=\"text-align: right;\">\n",
              "      <th></th>\n",
              "      <th>participant</th>\n",
              "      <th>LLelab</th>\n",
              "      <th>LLmed</th>\n",
              "      <th>LLdiff</th>\n",
              "      <th>best</th>\n",
              "    </tr>\n",
              "  </thead>\n",
              "  <tbody>\n",
              "    <tr>\n",
              "      <th>0</th>\n",
              "      <td>1001.0</td>\n",
              "      <td>-331.944263</td>\n",
              "      <td>-268.766771</td>\n",
              "      <td>-63.177492</td>\n",
              "      <td>LLmed</td>\n",
              "    </tr>\n",
              "    <tr>\n",
              "      <th>1</th>\n",
              "      <td>1002.0</td>\n",
              "      <td>-336.029051</td>\n",
              "      <td>-283.263482</td>\n",
              "      <td>-52.765570</td>\n",
              "      <td>LLmed</td>\n",
              "    </tr>\n",
              "    <tr>\n",
              "      <th>2</th>\n",
              "      <td>1003.0</td>\n",
              "      <td>-332.652026</td>\n",
              "      <td>-276.624213</td>\n",
              "      <td>-56.027814</td>\n",
              "      <td>LLmed</td>\n",
              "    </tr>\n",
              "    <tr>\n",
              "      <th>3</th>\n",
              "      <td>1004.0</td>\n",
              "      <td>-342.894743</td>\n",
              "      <td>-283.812424</td>\n",
              "      <td>-59.082318</td>\n",
              "      <td>LLmed</td>\n",
              "    </tr>\n",
              "    <tr>\n",
              "      <th>4</th>\n",
              "      <td>1005.0</td>\n",
              "      <td>-323.014805</td>\n",
              "      <td>-272.467672</td>\n",
              "      <td>-50.547133</td>\n",
              "      <td>LLmed</td>\n",
              "    </tr>\n",
              "    <tr>\n",
              "      <th>...</th>\n",
              "      <td>...</td>\n",
              "      <td>...</td>\n",
              "      <td>...</td>\n",
              "      <td>...</td>\n",
              "      <td>...</td>\n",
              "    </tr>\n",
              "    <tr>\n",
              "      <th>56</th>\n",
              "      <td>1064.0</td>\n",
              "      <td>-318.622091</td>\n",
              "      <td>-263.454363</td>\n",
              "      <td>-55.167728</td>\n",
              "      <td>LLmed</td>\n",
              "    </tr>\n",
              "    <tr>\n",
              "      <th>57</th>\n",
              "      <td>1065.0</td>\n",
              "      <td>-325.073346</td>\n",
              "      <td>-266.183760</td>\n",
              "      <td>-58.889586</td>\n",
              "      <td>LLmed</td>\n",
              "    </tr>\n",
              "    <tr>\n",
              "      <th>58</th>\n",
              "      <td>1067.0</td>\n",
              "      <td>-356.877995</td>\n",
              "      <td>-291.629524</td>\n",
              "      <td>-65.248471</td>\n",
              "      <td>LLmed</td>\n",
              "    </tr>\n",
              "    <tr>\n",
              "      <th>59</th>\n",
              "      <td>1068.0</td>\n",
              "      <td>-319.781068</td>\n",
              "      <td>-262.540341</td>\n",
              "      <td>-57.240727</td>\n",
              "      <td>LLmed</td>\n",
              "    </tr>\n",
              "    <tr>\n",
              "      <th>60</th>\n",
              "      <td>1069.0</td>\n",
              "      <td>-320.904007</td>\n",
              "      <td>-270.075997</td>\n",
              "      <td>-50.828010</td>\n",
              "      <td>LLmed</td>\n",
              "    </tr>\n",
              "  </tbody>\n",
              "</table>\n",
              "<p>61 rows × 5 columns</p>\n",
              "</div>\n",
              "      <button class=\"colab-df-convert\" onclick=\"convertToInteractive('df-2d373d63-a916-44d5-bb6a-86d2acab7046')\"\n",
              "              title=\"Convert this dataframe to an interactive table.\"\n",
              "              style=\"display:none;\">\n",
              "        \n",
              "  <svg xmlns=\"http://www.w3.org/2000/svg\" height=\"24px\"viewBox=\"0 0 24 24\"\n",
              "       width=\"24px\">\n",
              "    <path d=\"M0 0h24v24H0V0z\" fill=\"none\"/>\n",
              "    <path d=\"M18.56 5.44l.94 2.06.94-2.06 2.06-.94-2.06-.94-.94-2.06-.94 2.06-2.06.94zm-11 1L8.5 8.5l.94-2.06 2.06-.94-2.06-.94L8.5 2.5l-.94 2.06-2.06.94zm10 10l.94 2.06.94-2.06 2.06-.94-2.06-.94-.94-2.06-.94 2.06-2.06.94z\"/><path d=\"M17.41 7.96l-1.37-1.37c-.4-.4-.92-.59-1.43-.59-.52 0-1.04.2-1.43.59L10.3 9.45l-7.72 7.72c-.78.78-.78 2.05 0 2.83L4 21.41c.39.39.9.59 1.41.59.51 0 1.02-.2 1.41-.59l7.78-7.78 2.81-2.81c.8-.78.8-2.07 0-2.86zM5.41 20L4 18.59l7.72-7.72 1.47 1.35L5.41 20z\"/>\n",
              "  </svg>\n",
              "      </button>\n",
              "      \n",
              "  <style>\n",
              "    .colab-df-container {\n",
              "      display:flex;\n",
              "      flex-wrap:wrap;\n",
              "      gap: 12px;\n",
              "    }\n",
              "\n",
              "    .colab-df-convert {\n",
              "      background-color: #E8F0FE;\n",
              "      border: none;\n",
              "      border-radius: 50%;\n",
              "      cursor: pointer;\n",
              "      display: none;\n",
              "      fill: #1967D2;\n",
              "      height: 32px;\n",
              "      padding: 0 0 0 0;\n",
              "      width: 32px;\n",
              "    }\n",
              "\n",
              "    .colab-df-convert:hover {\n",
              "      background-color: #E2EBFA;\n",
              "      box-shadow: 0px 1px 2px rgba(60, 64, 67, 0.3), 0px 1px 3px 1px rgba(60, 64, 67, 0.15);\n",
              "      fill: #174EA6;\n",
              "    }\n",
              "\n",
              "    [theme=dark] .colab-df-convert {\n",
              "      background-color: #3B4455;\n",
              "      fill: #D2E3FC;\n",
              "    }\n",
              "\n",
              "    [theme=dark] .colab-df-convert:hover {\n",
              "      background-color: #434B5C;\n",
              "      box-shadow: 0px 1px 3px 1px rgba(0, 0, 0, 0.15);\n",
              "      filter: drop-shadow(0px 1px 2px rgba(0, 0, 0, 0.3));\n",
              "      fill: #FFFFFF;\n",
              "    }\n",
              "  </style>\n",
              "\n",
              "      <script>\n",
              "        const buttonEl =\n",
              "          document.querySelector('#df-2d373d63-a916-44d5-bb6a-86d2acab7046 button.colab-df-convert');\n",
              "        buttonEl.style.display =\n",
              "          google.colab.kernel.accessAllowed ? 'block' : 'none';\n",
              "\n",
              "        async function convertToInteractive(key) {\n",
              "          const element = document.querySelector('#df-2d373d63-a916-44d5-bb6a-86d2acab7046');\n",
              "          const dataTable =\n",
              "            await google.colab.kernel.invokeFunction('convertToInteractive',\n",
              "                                                     [key], {});\n",
              "          if (!dataTable) return;\n",
              "\n",
              "          const docLinkHtml = 'Like what you see? Visit the ' +\n",
              "            '<a target=\"_blank\" href=https://colab.research.google.com/notebooks/data_table.ipynb>data table notebook</a>'\n",
              "            + ' to learn more about interactive tables.';\n",
              "          element.innerHTML = '';\n",
              "          dataTable['output_type'] = 'display_data';\n",
              "          await google.colab.output.renderOutput(dataTable, element);\n",
              "          const docLink = document.createElement('div');\n",
              "          docLink.innerHTML = docLinkHtml;\n",
              "          element.appendChild(docLink);\n",
              "        }\n",
              "      </script>\n",
              "    </div>\n",
              "  </div>\n",
              "  "
            ],
            "text/plain": [
              "    participant      LLelab       LLmed     LLdiff   best\n",
              "0        1001.0 -331.944263 -268.766771 -63.177492  LLmed\n",
              "1        1002.0 -336.029051 -283.263482 -52.765570  LLmed\n",
              "2        1003.0 -332.652026 -276.624213 -56.027814  LLmed\n",
              "3        1004.0 -342.894743 -283.812424 -59.082318  LLmed\n",
              "4        1005.0 -323.014805 -272.467672 -50.547133  LLmed\n",
              "..          ...         ...         ...        ...    ...\n",
              "56       1064.0 -318.622091 -263.454363 -55.167728  LLmed\n",
              "57       1065.0 -325.073346 -266.183760 -58.889586  LLmed\n",
              "58       1067.0 -356.877995 -291.629524 -65.248471  LLmed\n",
              "59       1068.0 -319.781068 -262.540341 -57.240727  LLmed\n",
              "60       1069.0 -320.904007 -270.075997 -50.828010  LLmed\n",
              "\n",
              "[61 rows x 5 columns]"
            ]
          },
          "execution_count": 30,
          "metadata": {},
          "output_type": "execute_result"
        }
      ],
      "source": [
        "df['participant'] = participant\n",
        "df['LLelab'] = LLelab\n",
        "df['LLmed'] = LLmed\n",
        "df['LLdiff'] = df['LLelab'] - df['LLmed']\n",
        "df['best'] = np.where(df['LLdiff'] < 0, \"LLmed\", \"LLelab\")\n",
        "df.dropna()"
      ]
    },
    {
      "cell_type": "markdown",
      "metadata": {
        "id": "r7BwnKfMImrY"
      },
      "source": [
        "## compute the best parameters and high log-liklihoods of each model for each participant"
      ]
    },
    {
      "cell_type": "code",
      "execution_count": null,
      "metadata": {
        "colab": {
          "base_uri": "https://localhost:8080/"
        },
        "id": "-efVYwmgI8QT",
        "outputId": "66e43ea4-9ebf-46c9-cac7-afc6faef3c72"
      },
      "outputs": [
        {
          "data": {
            "text/plain": [
              "array([1001., 1002., 1003., 1004., 1005., 1006., 1007., 1008., 1009.,\n",
              "       1010., 1011., 1012., 1013., 1014., 1015., 1016., 1017., 1018.,\n",
              "       1019., 1020., 1021., 1022., 1023., 1024., 1025., 1026., 1028.,\n",
              "       1029., 1031., 1032., 1033., 1035., 1036., 1037., 1038., 1039.,\n",
              "       1040., 1041., 1042., 1043., 1044., 1045., 1046., 1047., 1049.,\n",
              "       1050., 1051., 1053., 1054., 1055., 1056., 1057., 1058., 1059.,\n",
              "       1061., 1063., 1064., 1065., 1067., 1068., 1069.,   nan])"
            ]
          },
          "execution_count": 40,
          "metadata": {},
          "output_type": "execute_result"
        }
      ],
      "source": [
        "alldata.participant.unique()"
      ]
    },
    {
      "cell_type": "code",
      "source": [
        "data = alldata[alldata.participant == 1001]\n",
        "edecay, etemp = opt.minimize(vLLelab, x0 = [0.5, 1], method = \"Powell\", bounds=[[0.01, 2], [0, 2]]).x"
      ],
      "metadata": {
        "id": "tDW2XTT4WGT1"
      },
      "execution_count": null,
      "outputs": []
    },
    {
      "cell_type": "code",
      "source": [
        "edecay, etemp"
      ],
      "metadata": {
        "colab": {
          "base_uri": "https://localhost:8080/"
        },
        "id": "cqrFZ6pwZ0To",
        "outputId": "a2e5cb57-1a80-4125-975e-d27f75c642cb"
      },
      "execution_count": null,
      "outputs": [
        {
          "output_type": "execute_result",
          "data": {
            "text/plain": [
              "(0.27466708929552264, 0.21490032437611706)"
            ]
          },
          "metadata": {},
          "execution_count": 30
        }
      ]
    },
    {
      "cell_type": "code",
      "execution_count": 45,
      "metadata": {
        "colab": {
          "base_uri": "https://localhost:8080/"
        },
        "id": "RSWCFpcnIp_V",
        "outputId": "a3880d41-93d1-4267-8834-0105cdae9c76"
      },
      "outputs": [
        {
          "output_type": "stream",
          "name": "stderr",
          "text": [
            "/usr/local/lib/python3.10/dist-packages/scipy/stats/_distn_infrastructure.py:2093: RuntimeWarning: divide by zero encountered in true_divide\n",
            "  x = np.asarray((x - loc)/scale, dtype=dtyp)\n"
          ]
        }
      ],
      "source": [
        "DO_ALL = True\n",
        "dataframe = []\n",
        "\n",
        "if DO_ALL:\n",
        "    for ppt in alldata.participant.unique(): \n",
        "        data = alldata[alldata.participant == ppt]\n",
        "        edecay, etemp, eter = opt.minimize(vLLelab, x0 = [0.5, 1, 1], method = \"Powell\", bounds=[[0.01, 2], [0, 2], [0.1, 2]]).x\n",
        "        llelab = LLelabRT(data, edecay, etemp, eter)\n",
        "            \n",
        "        mdecay, mtemp, mter = opt.minimize(vLLmed, x0 = [0.5, 1, 1], method = \"Powell\", bounds=[[0.01, 2], [0, 2], [0.1, 2]]).x\n",
        "        llmed = LLmedRT(data, mdecay, mtemp, mter)\n",
        "            \n",
        "        best = \"Mediator\"\n",
        "        if llelab > llmed:\n",
        "            best = \"Elaborative\"\n",
        "            \n",
        "        diff = llmed - llelab\n",
        "            \n",
        "        row = [ppt, edecay, etemp, eter, llelab, mdecay, mtemp, mter, llmed, best, diff]\n",
        "            \n",
        "        dataframe += [row]\n",
        "\n",
        "    result = pd.DataFrame(dataframe, columns=[\"Participant\", \"elab.decay\", \"elab.temp\", \"elab.ter\", \"elab.LL\", \"med.decay\", \"med.temp\", \"med.ter\", \"med.LL\", \"best.model\", \"diff.LL\"])"
      ]
    },
    {
      "cell_type": "code",
      "source": [
        "if DO_ALL:\n",
        "    result.to_csv(\"LL_model1.csv\")\n",
        "else:\n",
        "    result = pd.read_csv(\"LL_model1.csv\")\n",
        "result"
      ],
      "metadata": {
        "id": "1orKyYBilItT",
        "outputId": "51e84fd7-860b-4cdf-dd65-92a14870e5a2",
        "colab": {
          "base_uri": "https://localhost:8080/",
          "height": 368
        }
      },
      "execution_count": 46,
      "outputs": [
        {
          "output_type": "execute_result",
          "data": {
            "text/plain": [
              "    Participant  elab.decay  elab.temp  elab.ter     elab.LL  med.decay  \\\n",
              "0        1001.0    1.752918   0.381719  1.999956 -275.578389   2.000000   \n",
              "1        1002.0    1.796236   0.416278  1.999956 -284.460691   1.871570   \n",
              "2        1003.0    1.703782   0.398024  1.999956 -278.239330   1.943094   \n",
              "3        1004.0    1.227155   0.479060  1.999956 -308.864951   1.715946   \n",
              "4        1005.0    2.000000   0.336304  1.999988 -236.070033   2.000000   \n",
              "..          ...         ...        ...       ...         ...        ...   \n",
              "57       1065.0    2.000000   0.339570  1.999988 -249.615027   2.000000   \n",
              "58       1067.0    0.264869   0.324576  0.214661 -310.149932   1.669314   \n",
              "59       1068.0    2.000000   0.307540  1.999988 -226.357714   2.000000   \n",
              "60       1069.0    2.000000   0.324646  1.999988 -230.847347   2.000000   \n",
              "61          NaN    1.999952   1.999952  1.999956    0.000000   1.999952   \n",
              "\n",
              "    med.temp   med.ter      med.LL best.model    diff.LL  \n",
              "0   0.322108  1.999988 -224.419095   Mediator  51.159293  \n",
              "1   0.361223  1.999956 -239.148472   Mediator  45.312219  \n",
              "2   0.333615  2.000000 -226.908190   Mediator  51.331140  \n",
              "3   0.367941  1.999956 -250.306897   Mediator  58.558053  \n",
              "4   0.306018  1.999988 -196.005771   Mediator  40.064262  \n",
              "..       ...       ...         ...        ...        ...  \n",
              "57  0.315767  1.999988 -214.703622   Mediator  34.911405  \n",
              "58  0.413300  1.999956 -279.419549   Mediator  30.730383  \n",
              "59  0.289724  1.999988 -192.806400   Mediator  33.551314  \n",
              "60  0.311674  1.999988 -201.791103   Mediator  29.056243  \n",
              "61  1.999952  1.999956    0.000000   Mediator   0.000000  \n",
              "\n",
              "[62 rows x 11 columns]"
            ],
            "text/html": [
              "\n",
              "  <div id=\"df-d233a3bc-44f9-4452-bdb9-135cd42413d1\">\n",
              "    <div class=\"colab-df-container\">\n",
              "      <div>\n",
              "<style scoped>\n",
              "    .dataframe tbody tr th:only-of-type {\n",
              "        vertical-align: middle;\n",
              "    }\n",
              "\n",
              "    .dataframe tbody tr th {\n",
              "        vertical-align: top;\n",
              "    }\n",
              "\n",
              "    .dataframe thead th {\n",
              "        text-align: right;\n",
              "    }\n",
              "</style>\n",
              "<table border=\"1\" class=\"dataframe\">\n",
              "  <thead>\n",
              "    <tr style=\"text-align: right;\">\n",
              "      <th></th>\n",
              "      <th>Participant</th>\n",
              "      <th>elab.decay</th>\n",
              "      <th>elab.temp</th>\n",
              "      <th>elab.ter</th>\n",
              "      <th>elab.LL</th>\n",
              "      <th>med.decay</th>\n",
              "      <th>med.temp</th>\n",
              "      <th>med.ter</th>\n",
              "      <th>med.LL</th>\n",
              "      <th>best.model</th>\n",
              "      <th>diff.LL</th>\n",
              "    </tr>\n",
              "  </thead>\n",
              "  <tbody>\n",
              "    <tr>\n",
              "      <th>0</th>\n",
              "      <td>1001.0</td>\n",
              "      <td>1.752918</td>\n",
              "      <td>0.381719</td>\n",
              "      <td>1.999956</td>\n",
              "      <td>-275.578389</td>\n",
              "      <td>2.000000</td>\n",
              "      <td>0.322108</td>\n",
              "      <td>1.999988</td>\n",
              "      <td>-224.419095</td>\n",
              "      <td>Mediator</td>\n",
              "      <td>51.159293</td>\n",
              "    </tr>\n",
              "    <tr>\n",
              "      <th>1</th>\n",
              "      <td>1002.0</td>\n",
              "      <td>1.796236</td>\n",
              "      <td>0.416278</td>\n",
              "      <td>1.999956</td>\n",
              "      <td>-284.460691</td>\n",
              "      <td>1.871570</td>\n",
              "      <td>0.361223</td>\n",
              "      <td>1.999956</td>\n",
              "      <td>-239.148472</td>\n",
              "      <td>Mediator</td>\n",
              "      <td>45.312219</td>\n",
              "    </tr>\n",
              "    <tr>\n",
              "      <th>2</th>\n",
              "      <td>1003.0</td>\n",
              "      <td>1.703782</td>\n",
              "      <td>0.398024</td>\n",
              "      <td>1.999956</td>\n",
              "      <td>-278.239330</td>\n",
              "      <td>1.943094</td>\n",
              "      <td>0.333615</td>\n",
              "      <td>2.000000</td>\n",
              "      <td>-226.908190</td>\n",
              "      <td>Mediator</td>\n",
              "      <td>51.331140</td>\n",
              "    </tr>\n",
              "    <tr>\n",
              "      <th>3</th>\n",
              "      <td>1004.0</td>\n",
              "      <td>1.227155</td>\n",
              "      <td>0.479060</td>\n",
              "      <td>1.999956</td>\n",
              "      <td>-308.864951</td>\n",
              "      <td>1.715946</td>\n",
              "      <td>0.367941</td>\n",
              "      <td>1.999956</td>\n",
              "      <td>-250.306897</td>\n",
              "      <td>Mediator</td>\n",
              "      <td>58.558053</td>\n",
              "    </tr>\n",
              "    <tr>\n",
              "      <th>4</th>\n",
              "      <td>1005.0</td>\n",
              "      <td>2.000000</td>\n",
              "      <td>0.336304</td>\n",
              "      <td>1.999988</td>\n",
              "      <td>-236.070033</td>\n",
              "      <td>2.000000</td>\n",
              "      <td>0.306018</td>\n",
              "      <td>1.999988</td>\n",
              "      <td>-196.005771</td>\n",
              "      <td>Mediator</td>\n",
              "      <td>40.064262</td>\n",
              "    </tr>\n",
              "    <tr>\n",
              "      <th>...</th>\n",
              "      <td>...</td>\n",
              "      <td>...</td>\n",
              "      <td>...</td>\n",
              "      <td>...</td>\n",
              "      <td>...</td>\n",
              "      <td>...</td>\n",
              "      <td>...</td>\n",
              "      <td>...</td>\n",
              "      <td>...</td>\n",
              "      <td>...</td>\n",
              "      <td>...</td>\n",
              "    </tr>\n",
              "    <tr>\n",
              "      <th>57</th>\n",
              "      <td>1065.0</td>\n",
              "      <td>2.000000</td>\n",
              "      <td>0.339570</td>\n",
              "      <td>1.999988</td>\n",
              "      <td>-249.615027</td>\n",
              "      <td>2.000000</td>\n",
              "      <td>0.315767</td>\n",
              "      <td>1.999988</td>\n",
              "      <td>-214.703622</td>\n",
              "      <td>Mediator</td>\n",
              "      <td>34.911405</td>\n",
              "    </tr>\n",
              "    <tr>\n",
              "      <th>58</th>\n",
              "      <td>1067.0</td>\n",
              "      <td>0.264869</td>\n",
              "      <td>0.324576</td>\n",
              "      <td>0.214661</td>\n",
              "      <td>-310.149932</td>\n",
              "      <td>1.669314</td>\n",
              "      <td>0.413300</td>\n",
              "      <td>1.999956</td>\n",
              "      <td>-279.419549</td>\n",
              "      <td>Mediator</td>\n",
              "      <td>30.730383</td>\n",
              "    </tr>\n",
              "    <tr>\n",
              "      <th>59</th>\n",
              "      <td>1068.0</td>\n",
              "      <td>2.000000</td>\n",
              "      <td>0.307540</td>\n",
              "      <td>1.999988</td>\n",
              "      <td>-226.357714</td>\n",
              "      <td>2.000000</td>\n",
              "      <td>0.289724</td>\n",
              "      <td>1.999988</td>\n",
              "      <td>-192.806400</td>\n",
              "      <td>Mediator</td>\n",
              "      <td>33.551314</td>\n",
              "    </tr>\n",
              "    <tr>\n",
              "      <th>60</th>\n",
              "      <td>1069.0</td>\n",
              "      <td>2.000000</td>\n",
              "      <td>0.324646</td>\n",
              "      <td>1.999988</td>\n",
              "      <td>-230.847347</td>\n",
              "      <td>2.000000</td>\n",
              "      <td>0.311674</td>\n",
              "      <td>1.999988</td>\n",
              "      <td>-201.791103</td>\n",
              "      <td>Mediator</td>\n",
              "      <td>29.056243</td>\n",
              "    </tr>\n",
              "    <tr>\n",
              "      <th>61</th>\n",
              "      <td>NaN</td>\n",
              "      <td>1.999952</td>\n",
              "      <td>1.999952</td>\n",
              "      <td>1.999956</td>\n",
              "      <td>0.000000</td>\n",
              "      <td>1.999952</td>\n",
              "      <td>1.999952</td>\n",
              "      <td>1.999956</td>\n",
              "      <td>0.000000</td>\n",
              "      <td>Mediator</td>\n",
              "      <td>0.000000</td>\n",
              "    </tr>\n",
              "  </tbody>\n",
              "</table>\n",
              "<p>62 rows × 11 columns</p>\n",
              "</div>\n",
              "      <button class=\"colab-df-convert\" onclick=\"convertToInteractive('df-d233a3bc-44f9-4452-bdb9-135cd42413d1')\"\n",
              "              title=\"Convert this dataframe to an interactive table.\"\n",
              "              style=\"display:none;\">\n",
              "        \n",
              "  <svg xmlns=\"http://www.w3.org/2000/svg\" height=\"24px\"viewBox=\"0 0 24 24\"\n",
              "       width=\"24px\">\n",
              "    <path d=\"M0 0h24v24H0V0z\" fill=\"none\"/>\n",
              "    <path d=\"M18.56 5.44l.94 2.06.94-2.06 2.06-.94-2.06-.94-.94-2.06-.94 2.06-2.06.94zm-11 1L8.5 8.5l.94-2.06 2.06-.94-2.06-.94L8.5 2.5l-.94 2.06-2.06.94zm10 10l.94 2.06.94-2.06 2.06-.94-2.06-.94-.94-2.06-.94 2.06-2.06.94z\"/><path d=\"M17.41 7.96l-1.37-1.37c-.4-.4-.92-.59-1.43-.59-.52 0-1.04.2-1.43.59L10.3 9.45l-7.72 7.72c-.78.78-.78 2.05 0 2.83L4 21.41c.39.39.9.59 1.41.59.51 0 1.02-.2 1.41-.59l7.78-7.78 2.81-2.81c.8-.78.8-2.07 0-2.86zM5.41 20L4 18.59l7.72-7.72 1.47 1.35L5.41 20z\"/>\n",
              "  </svg>\n",
              "      </button>\n",
              "      \n",
              "  <style>\n",
              "    .colab-df-container {\n",
              "      display:flex;\n",
              "      flex-wrap:wrap;\n",
              "      gap: 12px;\n",
              "    }\n",
              "\n",
              "    .colab-df-convert {\n",
              "      background-color: #E8F0FE;\n",
              "      border: none;\n",
              "      border-radius: 50%;\n",
              "      cursor: pointer;\n",
              "      display: none;\n",
              "      fill: #1967D2;\n",
              "      height: 32px;\n",
              "      padding: 0 0 0 0;\n",
              "      width: 32px;\n",
              "    }\n",
              "\n",
              "    .colab-df-convert:hover {\n",
              "      background-color: #E2EBFA;\n",
              "      box-shadow: 0px 1px 2px rgba(60, 64, 67, 0.3), 0px 1px 3px 1px rgba(60, 64, 67, 0.15);\n",
              "      fill: #174EA6;\n",
              "    }\n",
              "\n",
              "    [theme=dark] .colab-df-convert {\n",
              "      background-color: #3B4455;\n",
              "      fill: #D2E3FC;\n",
              "    }\n",
              "\n",
              "    [theme=dark] .colab-df-convert:hover {\n",
              "      background-color: #434B5C;\n",
              "      box-shadow: 0px 1px 3px 1px rgba(0, 0, 0, 0.15);\n",
              "      filter: drop-shadow(0px 1px 2px rgba(0, 0, 0, 0.3));\n",
              "      fill: #FFFFFF;\n",
              "    }\n",
              "  </style>\n",
              "\n",
              "      <script>\n",
              "        const buttonEl =\n",
              "          document.querySelector('#df-d233a3bc-44f9-4452-bdb9-135cd42413d1 button.colab-df-convert');\n",
              "        buttonEl.style.display =\n",
              "          google.colab.kernel.accessAllowed ? 'block' : 'none';\n",
              "\n",
              "        async function convertToInteractive(key) {\n",
              "          const element = document.querySelector('#df-d233a3bc-44f9-4452-bdb9-135cd42413d1');\n",
              "          const dataTable =\n",
              "            await google.colab.kernel.invokeFunction('convertToInteractive',\n",
              "                                                     [key], {});\n",
              "          if (!dataTable) return;\n",
              "\n",
              "          const docLinkHtml = 'Like what you see? Visit the ' +\n",
              "            '<a target=\"_blank\" href=https://colab.research.google.com/notebooks/data_table.ipynb>data table notebook</a>'\n",
              "            + ' to learn more about interactive tables.';\n",
              "          element.innerHTML = '';\n",
              "          dataTable['output_type'] = 'display_data';\n",
              "          await google.colab.output.renderOutput(dataTable, element);\n",
              "          const docLink = document.createElement('div');\n",
              "          docLink.innerHTML = docLinkHtml;\n",
              "          element.appendChild(docLink);\n",
              "        }\n",
              "      </script>\n",
              "    </div>\n",
              "  </div>\n",
              "  "
            ]
          },
          "metadata": {},
          "execution_count": 46
        }
      ]
    },
    {
      "cell_type": "code",
      "source": [
        "result.dropna()"
      ],
      "metadata": {
        "colab": {
          "base_uri": "https://localhost:8080/",
          "height": 423
        },
        "id": "-Ixin0NltTny",
        "outputId": "aa73dd52-5ad9-4e18-81d6-fdd213824c90"
      },
      "execution_count": null,
      "outputs": [
        {
          "output_type": "execute_result",
          "data": {
            "text/plain": [
              "    Participant  elab.decay  elab.temp     elab.LL  med.decay  med.temp  \\\n",
              "0        1001.0    0.274667   0.214900 -228.397637   2.000000  0.322108   \n",
              "1        1002.0    1.534255   0.387240 -284.157523   1.710674  0.345765   \n",
              "2        1003.0    1.357349   0.362272 -277.714760   1.948170  0.331359   \n",
              "3        1004.0    0.233656   0.248042 -265.724719   1.402804  0.337474   \n",
              "4        1005.0    2.000000   0.336304 -236.070033   2.000000  0.306018   \n",
              "..          ...         ...        ...         ...        ...       ...   \n",
              "56       1064.0    2.000000   0.304891 -221.424049   2.000000  0.286815   \n",
              "57       1065.0    2.000000   0.339570 -249.615027   2.000000  0.315767   \n",
              "58       1067.0    0.224490   0.327816 -311.673984   1.307606  0.376198   \n",
              "59       1068.0    2.000000   0.307540 -226.357714   2.000000  0.289724   \n",
              "60       1069.0    2.000000   0.324646 -230.847347   2.000000  0.311674   \n",
              "\n",
              "        med.LL best.model    diff.LL  \n",
              "0  -224.419095   Mediator   3.978542  \n",
              "1  -239.030325   Mediator  45.127198  \n",
              "2  -226.901783   Mediator  50.812977  \n",
              "3  -249.847516   Mediator  15.877203  \n",
              "4  -196.005771   Mediator  40.064262  \n",
              "..         ...        ...        ...  \n",
              "56 -187.679526   Mediator  33.744523  \n",
              "57 -214.703622   Mediator  34.911405  \n",
              "58 -278.931016   Mediator  32.742969  \n",
              "59 -192.806400   Mediator  33.551314  \n",
              "60 -201.791103   Mediator  29.056243  \n",
              "\n",
              "[61 rows x 9 columns]"
            ],
            "text/html": [
              "\n",
              "  <div id=\"df-9e95b1f2-57d8-4baf-8087-8bc14d8886b1\">\n",
              "    <div class=\"colab-df-container\">\n",
              "      <div>\n",
              "<style scoped>\n",
              "    .dataframe tbody tr th:only-of-type {\n",
              "        vertical-align: middle;\n",
              "    }\n",
              "\n",
              "    .dataframe tbody tr th {\n",
              "        vertical-align: top;\n",
              "    }\n",
              "\n",
              "    .dataframe thead th {\n",
              "        text-align: right;\n",
              "    }\n",
              "</style>\n",
              "<table border=\"1\" class=\"dataframe\">\n",
              "  <thead>\n",
              "    <tr style=\"text-align: right;\">\n",
              "      <th></th>\n",
              "      <th>Participant</th>\n",
              "      <th>elab.decay</th>\n",
              "      <th>elab.temp</th>\n",
              "      <th>elab.LL</th>\n",
              "      <th>med.decay</th>\n",
              "      <th>med.temp</th>\n",
              "      <th>med.LL</th>\n",
              "      <th>best.model</th>\n",
              "      <th>diff.LL</th>\n",
              "    </tr>\n",
              "  </thead>\n",
              "  <tbody>\n",
              "    <tr>\n",
              "      <th>0</th>\n",
              "      <td>1001.0</td>\n",
              "      <td>0.274667</td>\n",
              "      <td>0.214900</td>\n",
              "      <td>-228.397637</td>\n",
              "      <td>2.000000</td>\n",
              "      <td>0.322108</td>\n",
              "      <td>-224.419095</td>\n",
              "      <td>Mediator</td>\n",
              "      <td>3.978542</td>\n",
              "    </tr>\n",
              "    <tr>\n",
              "      <th>1</th>\n",
              "      <td>1002.0</td>\n",
              "      <td>1.534255</td>\n",
              "      <td>0.387240</td>\n",
              "      <td>-284.157523</td>\n",
              "      <td>1.710674</td>\n",
              "      <td>0.345765</td>\n",
              "      <td>-239.030325</td>\n",
              "      <td>Mediator</td>\n",
              "      <td>45.127198</td>\n",
              "    </tr>\n",
              "    <tr>\n",
              "      <th>2</th>\n",
              "      <td>1003.0</td>\n",
              "      <td>1.357349</td>\n",
              "      <td>0.362272</td>\n",
              "      <td>-277.714760</td>\n",
              "      <td>1.948170</td>\n",
              "      <td>0.331359</td>\n",
              "      <td>-226.901783</td>\n",
              "      <td>Mediator</td>\n",
              "      <td>50.812977</td>\n",
              "    </tr>\n",
              "    <tr>\n",
              "      <th>3</th>\n",
              "      <td>1004.0</td>\n",
              "      <td>0.233656</td>\n",
              "      <td>0.248042</td>\n",
              "      <td>-265.724719</td>\n",
              "      <td>1.402804</td>\n",
              "      <td>0.337474</td>\n",
              "      <td>-249.847516</td>\n",
              "      <td>Mediator</td>\n",
              "      <td>15.877203</td>\n",
              "    </tr>\n",
              "    <tr>\n",
              "      <th>4</th>\n",
              "      <td>1005.0</td>\n",
              "      <td>2.000000</td>\n",
              "      <td>0.336304</td>\n",
              "      <td>-236.070033</td>\n",
              "      <td>2.000000</td>\n",
              "      <td>0.306018</td>\n",
              "      <td>-196.005771</td>\n",
              "      <td>Mediator</td>\n",
              "      <td>40.064262</td>\n",
              "    </tr>\n",
              "    <tr>\n",
              "      <th>...</th>\n",
              "      <td>...</td>\n",
              "      <td>...</td>\n",
              "      <td>...</td>\n",
              "      <td>...</td>\n",
              "      <td>...</td>\n",
              "      <td>...</td>\n",
              "      <td>...</td>\n",
              "      <td>...</td>\n",
              "      <td>...</td>\n",
              "    </tr>\n",
              "    <tr>\n",
              "      <th>56</th>\n",
              "      <td>1064.0</td>\n",
              "      <td>2.000000</td>\n",
              "      <td>0.304891</td>\n",
              "      <td>-221.424049</td>\n",
              "      <td>2.000000</td>\n",
              "      <td>0.286815</td>\n",
              "      <td>-187.679526</td>\n",
              "      <td>Mediator</td>\n",
              "      <td>33.744523</td>\n",
              "    </tr>\n",
              "    <tr>\n",
              "      <th>57</th>\n",
              "      <td>1065.0</td>\n",
              "      <td>2.000000</td>\n",
              "      <td>0.339570</td>\n",
              "      <td>-249.615027</td>\n",
              "      <td>2.000000</td>\n",
              "      <td>0.315767</td>\n",
              "      <td>-214.703622</td>\n",
              "      <td>Mediator</td>\n",
              "      <td>34.911405</td>\n",
              "    </tr>\n",
              "    <tr>\n",
              "      <th>58</th>\n",
              "      <td>1067.0</td>\n",
              "      <td>0.224490</td>\n",
              "      <td>0.327816</td>\n",
              "      <td>-311.673984</td>\n",
              "      <td>1.307606</td>\n",
              "      <td>0.376198</td>\n",
              "      <td>-278.931016</td>\n",
              "      <td>Mediator</td>\n",
              "      <td>32.742969</td>\n",
              "    </tr>\n",
              "    <tr>\n",
              "      <th>59</th>\n",
              "      <td>1068.0</td>\n",
              "      <td>2.000000</td>\n",
              "      <td>0.307540</td>\n",
              "      <td>-226.357714</td>\n",
              "      <td>2.000000</td>\n",
              "      <td>0.289724</td>\n",
              "      <td>-192.806400</td>\n",
              "      <td>Mediator</td>\n",
              "      <td>33.551314</td>\n",
              "    </tr>\n",
              "    <tr>\n",
              "      <th>60</th>\n",
              "      <td>1069.0</td>\n",
              "      <td>2.000000</td>\n",
              "      <td>0.324646</td>\n",
              "      <td>-230.847347</td>\n",
              "      <td>2.000000</td>\n",
              "      <td>0.311674</td>\n",
              "      <td>-201.791103</td>\n",
              "      <td>Mediator</td>\n",
              "      <td>29.056243</td>\n",
              "    </tr>\n",
              "  </tbody>\n",
              "</table>\n",
              "<p>61 rows × 9 columns</p>\n",
              "</div>\n",
              "      <button class=\"colab-df-convert\" onclick=\"convertToInteractive('df-9e95b1f2-57d8-4baf-8087-8bc14d8886b1')\"\n",
              "              title=\"Convert this dataframe to an interactive table.\"\n",
              "              style=\"display:none;\">\n",
              "        \n",
              "  <svg xmlns=\"http://www.w3.org/2000/svg\" height=\"24px\"viewBox=\"0 0 24 24\"\n",
              "       width=\"24px\">\n",
              "    <path d=\"M0 0h24v24H0V0z\" fill=\"none\"/>\n",
              "    <path d=\"M18.56 5.44l.94 2.06.94-2.06 2.06-.94-2.06-.94-.94-2.06-.94 2.06-2.06.94zm-11 1L8.5 8.5l.94-2.06 2.06-.94-2.06-.94L8.5 2.5l-.94 2.06-2.06.94zm10 10l.94 2.06.94-2.06 2.06-.94-2.06-.94-.94-2.06-.94 2.06-2.06.94z\"/><path d=\"M17.41 7.96l-1.37-1.37c-.4-.4-.92-.59-1.43-.59-.52 0-1.04.2-1.43.59L10.3 9.45l-7.72 7.72c-.78.78-.78 2.05 0 2.83L4 21.41c.39.39.9.59 1.41.59.51 0 1.02-.2 1.41-.59l7.78-7.78 2.81-2.81c.8-.78.8-2.07 0-2.86zM5.41 20L4 18.59l7.72-7.72 1.47 1.35L5.41 20z\"/>\n",
              "  </svg>\n",
              "      </button>\n",
              "      \n",
              "  <style>\n",
              "    .colab-df-container {\n",
              "      display:flex;\n",
              "      flex-wrap:wrap;\n",
              "      gap: 12px;\n",
              "    }\n",
              "\n",
              "    .colab-df-convert {\n",
              "      background-color: #E8F0FE;\n",
              "      border: none;\n",
              "      border-radius: 50%;\n",
              "      cursor: pointer;\n",
              "      display: none;\n",
              "      fill: #1967D2;\n",
              "      height: 32px;\n",
              "      padding: 0 0 0 0;\n",
              "      width: 32px;\n",
              "    }\n",
              "\n",
              "    .colab-df-convert:hover {\n",
              "      background-color: #E2EBFA;\n",
              "      box-shadow: 0px 1px 2px rgba(60, 64, 67, 0.3), 0px 1px 3px 1px rgba(60, 64, 67, 0.15);\n",
              "      fill: #174EA6;\n",
              "    }\n",
              "\n",
              "    [theme=dark] .colab-df-convert {\n",
              "      background-color: #3B4455;\n",
              "      fill: #D2E3FC;\n",
              "    }\n",
              "\n",
              "    [theme=dark] .colab-df-convert:hover {\n",
              "      background-color: #434B5C;\n",
              "      box-shadow: 0px 1px 3px 1px rgba(0, 0, 0, 0.15);\n",
              "      filter: drop-shadow(0px 1px 2px rgba(0, 0, 0, 0.3));\n",
              "      fill: #FFFFFF;\n",
              "    }\n",
              "  </style>\n",
              "\n",
              "      <script>\n",
              "        const buttonEl =\n",
              "          document.querySelector('#df-9e95b1f2-57d8-4baf-8087-8bc14d8886b1 button.colab-df-convert');\n",
              "        buttonEl.style.display =\n",
              "          google.colab.kernel.accessAllowed ? 'block' : 'none';\n",
              "\n",
              "        async function convertToInteractive(key) {\n",
              "          const element = document.querySelector('#df-9e95b1f2-57d8-4baf-8087-8bc14d8886b1');\n",
              "          const dataTable =\n",
              "            await google.colab.kernel.invokeFunction('convertToInteractive',\n",
              "                                                     [key], {});\n",
              "          if (!dataTable) return;\n",
              "\n",
              "          const docLinkHtml = 'Like what you see? Visit the ' +\n",
              "            '<a target=\"_blank\" href=https://colab.research.google.com/notebooks/data_table.ipynb>data table notebook</a>'\n",
              "            + ' to learn more about interactive tables.';\n",
              "          element.innerHTML = '';\n",
              "          dataTable['output_type'] = 'display_data';\n",
              "          await google.colab.output.renderOutput(dataTable, element);\n",
              "          const docLink = document.createElement('div');\n",
              "          docLink.innerHTML = docLinkHtml;\n",
              "          element.appendChild(docLink);\n",
              "        }\n",
              "      </script>\n",
              "    </div>\n",
              "  </div>\n",
              "  "
            ]
          },
          "metadata": {},
          "execution_count": 44
        }
      ]
    },
    {
      "cell_type": "code",
      "source": [
        "elab_LL = result[\"elab.LL\"].values\n",
        "med_LL = result[\"med.LL\"].values\n",
        "\n",
        "BEST = result[\"best.model\"].values\n",
        "BEST_ = np.unique(BEST)\n",
        "\n",
        "COLORS = ['#c9a818', '#674b94']"
      ],
      "metadata": {
        "id": "w-Rv_Bijr_VN"
      },
      "execution_count": 47,
      "outputs": []
    },
    {
      "cell_type": "code",
      "source": [
        "fig, ax = plt.subplots(figsize=(8,8))\n",
        "for best, color in zip(BEST_, COLORS):\n",
        "    idxs = np.where(best == BEST)\n",
        "    # No legend will be generated if we don't pass label=species\n",
        "    ax.scatter(\n",
        "        elab_LL[idxs], med_LL[idxs], label=best,\n",
        "        s=50, color=color, alpha=0.7\n",
        "    )\n",
        "    \n",
        "_ = plt.xlabel(\"Elaborative Loglikelihood\")\n",
        "_ = plt.ylabel(\"Mediator Loglikelihood\")\n",
        "_ = plt.title(\"Loglikelihood of Model Fit by Participant\")\n",
        "_ = plt.xlim([-320, -170])\n",
        "_ = plt.ylim([-320, -170])\n",
        "_ = plt.show\n",
        "ax.legend(loc = \"upper left\");"
      ],
      "metadata": {
        "id": "PG9R8GZWypwl",
        "colab": {
          "base_uri": "https://localhost:8080/",
          "height": 727
        },
        "outputId": "6d58b9af-1e13-495f-a70c-a3d2be4b397a"
      },
      "execution_count": 49,
      "outputs": [
        {
          "output_type": "display_data",
          "data": {
            "text/plain": [
              "<Figure size 800x800 with 1 Axes>"
            ],
            "image/png": "[encoded data removed]"
          },
          "metadata": {}
        }
      ]
    }
  ],
  "metadata": {
    "colab": {
      "provenance": []
    },
    "kernelspec": {
      "display_name": "Python 3",
      "name": "python3"
    },
    "language_info": {
      "name": "python"
    }
  },
  "nbformat": 4,
  "nbformat_minor": 0
}